{
 "cells": [
  {
   "cell_type": "markdown",
   "id": "aca7ed09-6eb4-490f-acbf-228d0bc6a362",
   "metadata": {},
   "source": [
    "# I. Random Graph Model Testing"
   ]
  },
  {
   "cell_type": "code",
   "execution_count": 1,
   "id": "bb93c95d-0212-4de6-a586-9353bb717eb0",
   "metadata": {},
   "outputs": [],
   "source": [
    "import numpy as np\n",
    "import networkx as nx\n",
    "import matplotlib.pyplot as plt\n",
    "\n",
    "import logging\n",
    "logging.captureWarnings(True) # Logging warnings in order to suppress them"
   ]
  },
  {
   "cell_type": "code",
   "execution_count": 7,
   "id": "4120ba37-6c90-497c-99da-64980867a03f",
   "metadata": {},
   "outputs": [],
   "source": [
    "# For this task use the full weight matrix V.\n",
    "adj_matrix = np.genfromtxt(\"data/sgb128Nodes41to80_weight.txt\", delimiter=' ', skip_header=1)\n",
    "V = nx.Graph(adj_matrix)"
   ]
  }
 ],
 "metadata": {
  "kernelspec": {
   "display_name": "Python 3 (ipykernel)",
   "language": "python",
   "name": "python3"
  },
  "language_info": {
   "codemirror_mode": {
    "name": "ipython",
    "version": 3
   },
   "file_extension": ".py",
   "mimetype": "text/x-python",
   "name": "python",
   "nbconvert_exporter": "python",
   "pygments_lexer": "ipython3",
   "version": "3.10.4"
  }
 },
 "nbformat": 4,
 "nbformat_minor": 5
}
