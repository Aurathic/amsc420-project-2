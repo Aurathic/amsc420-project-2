{
 "cells": [
  {
   "cell_type": "markdown",
   "id": "aca7ed09-6eb4-490f-acbf-228d0bc6a362",
   "metadata": {},
   "source": [
    "# I. Random Graph Model Testing"
   ]
  },
  {
   "cell_type": "code",
   "execution_count": 1,
   "id": "f75ee16a-f4bd-48b8-9b14-633c19a5c8e9",
   "metadata": {},
   "outputs": [
    {
     "name": "stdout",
     "output_type": "stream",
     "text": [
      "Part 1 functions imported.\n"
     ]
    }
   ],
   "source": [
    "%run functions_1.ipynb"
   ]
  },
  {
   "cell_type": "code",
   "execution_count": 2,
   "id": "4120ba37-6c90-497c-99da-64980867a03f",
   "metadata": {},
   "outputs": [],
   "source": [
    "# For this task use the full weight matrix V.\n",
    "adj_matrix = np.genfromtxt(\"data/sgb128Nodes41to80_weight.txt\", delimiter=' ', skip_header=1)\n",
    "G = nx.Graph(adj_matrix)\n",
    "V = nx.adjacency_matrix(G).todense()"
   ]
  },
  {
   "cell_type": "code",
   "execution_count": 4,
   "id": "cb9f90fe-535e-4d59-9e78-914316c58f1f",
   "metadata": {},
   "outputs": [
    {
     "name": "stdout",
     "output_type": "stream",
     "text": [
      "780 780\n",
      "[(14, 38, {'weight': 0.956283}), (18, 39, {'weight': 0.926507}), (5, 18, {'weight': 0.901203}), (0, 36, {'weight': 0.891121}), (10, 32, {'weight': 0.89055}), (30, 31, {'weight': 0.876175}), (2, 35, {'weight': 0.865384}), (5, 39, {'weight': 0.837182}), (25, 37, {'weight': 0.836497}), (0, 1, {'weight': 0.830608})]\n"
     ]
    }
   ],
   "source": [
    "# 1. Order edges according to their weight. For this, create a matrix E of size\n",
    "# n(n−1)/2 x 2 that contains the ordered list of edges so that (E(1,1),E(1,2))\n",
    "# is an edge with the largest weight;\n",
    "n = len(V)\n",
    "E = list(G.edges(data=True))\n",
    "E.sort(key=lambda e:e[2][\"weight\"], reverse=True)\n",
    "print(n*(n-1)//2, len(E))\n",
    "print(E[:10])"
   ]
  },
  {
   "cell_type": "code",
   "execution_count": 5,
   "id": "c3603dfc-1518-41c6-a792-4003b05685e6",
   "metadata": {},
   "outputs": [
    {
     "ename": "TypeError",
     "evalue": "unhashable type: 'AtlasView'",
     "output_type": "error",
     "traceback": [
      "\u001b[1;31m---------------------------------------------------------------------------\u001b[0m",
      "\u001b[1;31mTypeError\u001b[0m                                 Traceback (most recent call last)",
      "Input \u001b[1;32mIn [5]\u001b[0m, in \u001b[0;36m<cell line: 8>\u001b[1;34m()\u001b[0m\n\u001b[0;32m      6\u001b[0m \u001b[38;5;66;03m# 2. Loop with k from 2 to n(n − 1)/2 and for each k, perform the following\u001b[39;00m\n\u001b[0;32m      7\u001b[0m \u001b[38;5;66;03m# tasks on the set of first k edges, E(1 : k, 1 : 2):\u001b[39;00m\n\u001b[0;32m      8\u001b[0m \u001b[38;5;28;01mfor\u001b[39;00m k \u001b[38;5;129;01min\u001b[39;00m \u001b[38;5;28mrange\u001b[39m(\u001b[38;5;241m2\u001b[39m,\u001b[38;5;28mlen\u001b[39m(E)):\n\u001b[0;32m      9\u001b[0m     \u001b[38;5;66;03m#G_first_k_edges = nx.from_edgelist(E[:k])\u001b[39;00m\n\u001b[0;32m     10\u001b[0m     \u001b[38;5;66;03m#adj = nx.adjacency_matrix(G_first_k_edges).todense()\u001b[39;00m\n\u001b[1;32m   (...)\u001b[0m\n\u001b[0;32m     18\u001b[0m     \u001b[38;5;66;03m#q3.append(num_3_cliques)\u001b[39;00m\n\u001b[0;32m     19\u001b[0m     \u001b[38;5;66;03m#q4.append(q_cliques_counter[4])\u001b[39;00m\n\u001b[1;32m---> 21\u001b[0m     G_sub, num_3_4_cliques \u001b[38;5;241m=\u001b[39m \u001b[43mcount_3_4_cliques\u001b[49m\u001b[43m(\u001b[49m\u001b[43mG_sub\u001b[49m\u001b[43m,\u001b[49m\u001b[43m \u001b[49m\u001b[43mnum_3_4_cliques\u001b[49m\u001b[43m,\u001b[49m\u001b[43m \u001b[49m\u001b[43mE\u001b[49m\u001b[43m[\u001b[49m\u001b[43mk\u001b[49m\u001b[43m]\u001b[49m\u001b[43m)\u001b[49m\n\u001b[0;32m     22\u001b[0m     q3\u001b[38;5;241m.\u001b[39mappend(num_3_4_cliques[\u001b[38;5;241m3\u001b[39m])\n\u001b[0;32m     23\u001b[0m     q4\u001b[38;5;241m.\u001b[39mappend(num_3_4_cliques[\u001b[38;5;241m4\u001b[39m])\n",
      "File \u001b[1;32m~\\AppData\\Local\\Temp\\ipykernel_21512\\2368725895.py:12\u001b[0m, in \u001b[0;36mcount_3_4_cliques\u001b[1;34m(prev_G, prev_num_3_4_cliques, new_edge)\u001b[0m\n\u001b[0;32m     10\u001b[0m prev_num_3_4_cliques[\u001b[38;5;241m3\u001b[39m] \u001b[38;5;241m+\u001b[39m\u001b[38;5;241m=\u001b[39m \u001b[38;5;28mlen\u001b[39m(all_c)\n\u001b[0;32m     11\u001b[0m \u001b[38;5;66;03m# 4 cliques\u001b[39;00m\n\u001b[1;32m---> 12\u001b[0m possible_d \u001b[38;5;241m=\u001b[39m \u001b[38;5;28;43mset\u001b[39;49m\u001b[43m(\u001b[49m\u001b[43mG\u001b[49m\u001b[43m[\u001b[49m\u001b[43mc\u001b[49m\u001b[43m]\u001b[49m\u001b[43m \u001b[49m\u001b[38;5;28;43;01mfor\u001b[39;49;00m\u001b[43m \u001b[49m\u001b[43mc\u001b[49m\u001b[43m \u001b[49m\u001b[38;5;129;43;01min\u001b[39;49;00m\u001b[43m \u001b[49m\u001b[43mG\u001b[49m\u001b[43m[\u001b[49m\u001b[43ma\u001b[49m\u001b[43m]\u001b[49m\u001b[43m)\u001b[49m\n\u001b[0;32m     13\u001b[0m all_d \u001b[38;5;241m=\u001b[39m possible_d \u001b[38;5;241m&\u001b[39m \u001b[38;5;28mset\u001b[39m(G[b])\n\u001b[0;32m     14\u001b[0m prev_num_3_4_cliques[\u001b[38;5;241m4\u001b[39m] \u001b[38;5;241m+\u001b[39m\u001b[38;5;241m=\u001b[39m \u001b[38;5;28mlen\u001b[39m(all_d)\n",
      "\u001b[1;31mTypeError\u001b[0m: unhashable type: 'AtlasView'"
     ]
    }
   ],
   "source": [
    "from collections import Counter\n",
    "q3, q4, ER3, ER4, SSBM3, SSBM4 = [], [], [], [], [], []\n",
    "\n",
    "num_3_4_cliques = Counter()\n",
    "G_sub = nx.Graph()\n",
    "# 2. Loop with k from 2 to n(n − 1)/2 and for each k, perform the following\n",
    "# tasks on the set of first k edges, E(1 : k, 1 : 2):\n",
    "for k in range(2,len(E)):\n",
    "    #G_first_k_edges = nx.from_edgelist(E[:k])\n",
    "    #adj = nx.adjacency_matrix(G_first_k_edges).todense()\n",
    "    \n",
    "    \n",
    "    # (a) compute the actual number of 3-cliques q3(k) and 4-cliques q4(k);\n",
    "    \n",
    "    #q_cliques_counter = counter_num_cliques(G_first_k_edges)\n",
    "    #print(q_cliques_counter)\n",
    "    #num_3_cliques = q_cliques_counter[3]\n",
    "    #q3.append(num_3_cliques)\n",
    "    #q4.append(q_cliques_counter[4])\n",
    "    \n",
    "    G_sub, num_3_4_cliques = count_3_4_cliques(G_sub, num_3_4_cliques, E[k])\n",
    "    q3.append(num_3_4_cliques[3])\n",
    "    q4.append(num_3_4_cliques[4])\n",
    "    \n",
    "    num_nodes, num_edges = G.number_of_nodes(), k\n",
    "    \n",
    "    # (b) Under the Erdos-Renyi random graph model, estimate the parameter\n",
    "    # p. Compute the estimated number of 3-cliques and 4-cliques (under\n",
    "    # the Erdos-Renyi model), say ER3(k) and ER4(k);\n",
    "    p = erdos_reyni_p_MLE(num_edges, num_nodes)\n",
    "    ER3.append(erdos_reyni_estimated_q_cliques(3, num_nodes, p))\n",
    "    ER4.append(erdos_reyni_estimated_q_cliques(4, num_nodes, p))\n",
    "               \n",
    "    # (c) Under the SSBM random graph model, estimate the parameters a\n",
    "    # and b based on the number of vertices, edges, and 3-cliques, using\n",
    "    # the Modified Constrained Moment Matching Algorithm 2. Compute\n",
    "    # the estimated number of 3-cliques and 4-cliques (under the SSBM\n",
    "    # model), say SSBM 3(k) and SSBM 4(k);\n",
    "    a, b = ssbm_a_b_CMM(num_nodes, num_edges, num_3_cliques) \n",
    "    SSBM3.append(ssbm_estimated_q_cliques(3, num_nodes, a, b))\n",
    "    SSBM4.append(ssbm_estimated_q_cliques(4, num_nodes, a, b))\n",
    "    \n",
    "    if k%50 == 0: print(f\"subset {k} out of {len(E)} complete\")"
   ]
  },
  {
   "cell_type": "code",
   "execution_count": 24,
   "id": "17d84174-01a5-4d02-93ef-3df9739e98ca",
   "metadata": {},
   "outputs": [
    {
     "data": {
      "text/plain": [
       "<matplotlib.legend.Legend at 0x2201e237ee0>"
      ]
     },
     "execution_count": 24,
     "metadata": {},
     "output_type": "execute_result"
    },
    {
     "data": {
      "image/png": "[encoded data removed]",
      "text/plain": [
       "<Figure size 432x288 with 1 Axes>"
      ]
     },
     "metadata": {
      "needs_background": "light"
     },
     "output_type": "display_data"
    }
   ],
   "source": [
    "# 3. Plot q3, ER3 and SSBM 3 on the same plot. Estimate the amplitude\n",
    "# C and exponent r from the power law y(k) ∼ Ckr by a linear fit in the\n",
    "# log-log plot, after you discard the first, say 10 entries. Call C3,ER, r3,ER\n",
    "# and C3,SSBM, r3,SSBM the respective parameters.\n",
    "plt.plot(q3, label=\"Actual\")\n",
    "plt.plot(ER3, label=\"ER\")\n",
    "plt.plot(SSBM3, label=\"SSBM\")\n",
    "plt.legend()"
   ]
  },
  {
   "cell_type": "code",
   "execution_count": null,
   "id": "d12709b6-f526-4aaf-9917-6dfb67e15690",
   "metadata": {},
   "outputs": [],
   "source": [
    "# 4. Plot log(q3), log(ER3) and log(C3,ER) + r3,ERlog(k) on same figure over\n",
    "# the range of k utilized to estimate the exponent.\n"
   ]
  },
  {
   "cell_type": "code",
   "execution_count": null,
   "id": "aa2015e9-79fd-416f-bee6-a7ea1acbc199",
   "metadata": {},
   "outputs": [],
   "source": [
    "# 5. Plot log(q3), log(SSBM 3) and log(C3,SSBM ) + r3,SSBM log(k) on same\n",
    "# figure over the range of k utilized to estimate the exponent.\n"
   ]
  },
  {
   "cell_type": "code",
   "execution_count": null,
   "id": "200babf7-c88b-44ff-adf0-fe7d42a410bb",
   "metadata": {},
   "outputs": [],
   "source": [
    "# 6. Plot q4, ER4 and SSBM 4 on the same plot. Estimate the exponent r\n",
    "# from the power law y(k) ∼ Ckr by a linear fit in the log-log plot, after you\n",
    "# discard, say 100 first entries. Call C4,ER, r4,ER and C4,SSBM , r4,SSBM\n",
    "# the respective parameters.\n"
   ]
  },
  {
   "cell_type": "code",
   "execution_count": null,
   "id": "43305a5a-ee20-4661-9403-d1b1493fc98a",
   "metadata": {},
   "outputs": [],
   "source": [
    "# 7. Plot log(q4), log(ER4) and log(C4,ER) + r4,ERlog(k) on same figure over\n",
    "# the range of k utilized to estimate the exponent.\n"
   ]
  },
  {
   "cell_type": "code",
   "execution_count": null,
   "id": "3c0cc4cb-7e9a-4c22-9c71-47e6269127cd",
   "metadata": {},
   "outputs": [],
   "source": [
    "# 8. Plot log(q4), log(SSBM 4) and log(C4,SSBM ) + r4,SSBM log(k) on same\n",
    "# figure over the range of k utilized to estimate the exponent.\n",
    "# Which of the two random graph model fits better the data? Why do you think\n",
    "# I recommend to discard the first 10 or 100 entries?\n"
   ]
  }
 ],
 "metadata": {
  "kernelspec": {
   "display_name": "Python 3 (ipykernel)",
   "language": "python",
   "name": "python3"
  },
  "language_info": {
   "codemirror_mode": {
    "name": "ipython",
    "version": 3
   },
   "file_extension": ".py",
   "mimetype": "text/x-python",
   "name": "python",
   "nbconvert_exporter": "python",
   "pygments_lexer": "ipython3",
   "version": "3.10.4"
  }
 },
 "nbformat": 4,
 "nbformat_minor": 5
}
