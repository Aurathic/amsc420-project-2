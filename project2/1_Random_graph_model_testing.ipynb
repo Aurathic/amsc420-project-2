{
 "cells": [
  {
   "cell_type": "markdown",
   "id": "aca7ed09-6eb4-490f-acbf-228d0bc6a362",
   "metadata": {},
   "source": [
    "# I. Random Graph Model Testing"
   ]
  },
  {
   "cell_type": "code",
   "execution_count": 23,
   "id": "f75ee16a-f4bd-48b8-9b14-633c19a5c8e9",
   "metadata": {},
   "outputs": [
    {
     "name": "stdout",
     "output_type": "stream",
     "text": [
      "Part 1 functions imported.\n"
     ]
    }
   ],
   "source": [
    "%run functions_1.ipynb"
   ]
  },
  {
   "cell_type": "code",
   "execution_count": 7,
   "id": "4120ba37-6c90-497c-99da-64980867a03f",
   "metadata": {},
   "outputs": [],
   "source": [
    "# For this task use the full weight matrix V.\n",
    "adj_matrix = np.genfromtxt(\"data/sgb128Nodes41to80_weight.txt\", delimiter=' ', skip_header=1)\n",
    "G = nx.Graph(adj_matrix)\n",
    "V = nx.adjacency_matrix(G).todense()"
   ]
  },
  {
   "cell_type": "code",
   "execution_count": 17,
   "id": "cb9f90fe-535e-4d59-9e78-914316c58f1f",
   "metadata": {},
   "outputs": [
    {
     "data": {
      "text/plain": [
       "[(14, 38, {'weight': 0.956283}),\n",
       " (18, 39, {'weight': 0.926507}),\n",
       " (5, 18, {'weight': 0.901203}),\n",
       " (0, 36, {'weight': 0.891121}),\n",
       " (10, 32, {'weight': 0.89055}),\n",
       " (30, 31, {'weight': 0.876175}),\n",
       " (2, 35, {'weight': 0.865384}),\n",
       " (5, 39, {'weight': 0.837182}),\n",
       " (25, 37, {'weight': 0.836497}),\n",
       " (0, 1, {'weight': 0.830608})]"
      ]
     },
     "execution_count": 17,
     "metadata": {},
     "output_type": "execute_result"
    }
   ],
   "source": [
    "# 1. Order edges according to their weight. For this, create a matrix E of size\n",
    "# n(n−1)/2 x 2 that contains the ordered list of edges so that (E(1,1),E(1,2))\n",
    "# is an edge with the largest weight;\n",
    "n = len(V)\n",
    "E = list(G.edges(data=True))\n",
    "E.sort(key=lambda e:e[2][\"weight\"], reverse=True)\n",
    "#print(n*(n-1)//2, len(E))\n",
    "E[:10]"
   ]
  },
  {
   "cell_type": "code",
   "execution_count": null,
   "id": "c3603dfc-1518-41c6-a792-4003b05685e6",
   "metadata": {},
   "outputs": [],
   "source": [
    "q3, q4, ER3, ER4, SSBM3, SSBM4 = [], [], [], [], [], []\n",
    "\n",
    "# 2. Loop with k from 2 to n(n − 1)/2 and for each k, perform the following\n",
    "# tasks on the set of first k edges, E(1 : k, 1 : 2):\n",
    "for k in range(2,len(E)):\n",
    "    first_k_edges = E[:k]\n",
    "    # (a) compute the actual number of 3-cliques q3(k) and 4-cliques q4(k);\n",
    "    q3.append(\n",
    "    # (b) Under the Erdos-Renyi random graph model, estimate the parameter\n",
    "    # p. Compute the estimated number of 3-cliques and 4-cliques (under\n",
    "    # the Erdos-Renyi model), say ER3(k) and ER4(k);\n",
    "\n",
    "    # (c) Under the SSBM random graph model, estimate the parameters a\n",
    "    # and b based on the number of vertices, edges, and 3-cliques, using\n",
    "    # the Modified Constrained Moment Matching Algorithm 2. Compute\n",
    "    # the estimated number of 3-cliques and 4-cliques (under the SSBM\n",
    "    # model), say SSBM 3(k) and SSBM 4(k);\n",
    "    "
   ]
  },
  {
   "cell_type": "code",
   "execution_count": null,
   "id": "17d84174-01a5-4d02-93ef-3df9739e98ca",
   "metadata": {},
   "outputs": [],
   "source": [
    "# 3. Plot q3, ER3 and SSBM 3 on the same plot. Estimate the amplitude\n",
    "# C and exponent r from the power law y(k) ∼ Ckr by a linear fit in the\n",
    "# log-log plot, after you discard the first, say 10 entries. Call C3,ER, r3,ER\n",
    "# and C3,SSBM, r3,SSBM the respective parameters.\n"
   ]
  },
  {
   "cell_type": "code",
   "execution_count": null,
   "id": "d12709b6-f526-4aaf-9917-6dfb67e15690",
   "metadata": {},
   "outputs": [],
   "source": [
    "# 4. Plot log(q3), log(ER3) and log(C3,ER) + r3,ERlog(k) on same figure over\n",
    "# the range of k utilized to estimate the exponent.\n"
   ]
  },
  {
   "cell_type": "code",
   "execution_count": null,
   "id": "aa2015e9-79fd-416f-bee6-a7ea1acbc199",
   "metadata": {},
   "outputs": [],
   "source": [
    "# 5. Plot log(q3), log(SSBM 3) and log(C3,SSBM ) + r3,SSBM log(k) on same\n",
    "# figure over the range of k utilized to estimate the exponent.\n"
   ]
  },
  {
   "cell_type": "code",
   "execution_count": null,
   "id": "200babf7-c88b-44ff-adf0-fe7d42a410bb",
   "metadata": {},
   "outputs": [],
   "source": [
    "# 6. Plot q4, ER4 and SSBM 4 on the same plot. Estimate the exponent r\n",
    "# from the power law y(k) ∼ Ckr by a linear fit in the log-log plot, after you\n",
    "# discard, say 100 first entries. Call C4,ER, r4,ER and C4,SSBM , r4,SSBM\n",
    "# the respective parameters.\n"
   ]
  },
  {
   "cell_type": "code",
   "execution_count": null,
   "id": "43305a5a-ee20-4661-9403-d1b1493fc98a",
   "metadata": {},
   "outputs": [],
   "source": [
    "# 7. Plot log(q4), log(ER4) and log(C4,ER) + r4,ERlog(k) on same figure over\n",
    "# the range of k utilized to estimate the exponent.\n"
   ]
  },
  {
   "cell_type": "code",
   "execution_count": null,
   "id": "3c0cc4cb-7e9a-4c22-9c71-47e6269127cd",
   "metadata": {},
   "outputs": [],
   "source": [
    "# 8. Plot log(q4), log(SSBM 4) and log(C4,SSBM ) + r4,SSBM log(k) on same\n",
    "# figure over the range of k utilized to estimate the exponent.\n",
    "# Which of the two random graph model fits better the data? Why do you think\n",
    "# I recommend to discard the first 10 or 100 entries?\n"
   ]
  }
 ],
 "metadata": {
  "kernelspec": {
   "display_name": "Python 3 (ipykernel)",
   "language": "python",
   "name": "python3"
  },
  "language_info": {
   "codemirror_mode": {
    "name": "ipython",
    "version": 3
   },
   "file_extension": ".py",
   "mimetype": "text/x-python",
   "name": "python",
   "nbconvert_exporter": "python",
   "pygments_lexer": "ipython3",
   "version": "3.10.4"
  }
 },
 "nbformat": 4,
 "nbformat_minor": 5
}
