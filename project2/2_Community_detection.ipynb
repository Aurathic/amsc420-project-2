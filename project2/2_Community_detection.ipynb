{
 "cells": [
  {
   "cell_type": "markdown",
   "id": "f5dd5e5e-2790-4590-912c-74fe162bc19c",
   "metadata": {},
   "source": [
    "# II. Community Detection"
   ]
  },
  {
   "cell_type": "code",
   "execution_count": 1,
   "id": "54d7b915-c4d8-49c9-a6f9-b71ebc5de835",
   "metadata": {},
   "outputs": [],
   "source": [
    "import numpy as np\n",
    "import networkx as nx\n",
    "import matplotlib.pyplot as plt\n",
    "\n",
    "import logging\n",
    "logging.captureWarnings(True) # Logging warnings in order to suppress them"
   ]
  },
  {
   "cell_type": "code",
   "execution_count": 3,
   "id": "778368bb-a957-497b-a295-7bd8d1decfae",
   "metadata": {},
   "outputs": [],
   "source": [
    "# For this task use the weight matrix W and the adjacency matrix A.\n",
    "adj_matrix = np.genfromtxt(\"data/sgb128Nodes41to80_weight20.txt\", delimiter=' ', skip_header=1)\n",
    "W = nx.Graph(adj_matrix)\n",
    "\n",
    "adj_matrix = np.genfromtxt(\"data/sgb128Nodes41to80_adj20.txt\", delimiter=' ', skip_header=1)\n",
    "A = nx.Graph(adj_matrix)"
   ]
  }
 ],
 "metadata": {
  "kernelspec": {
   "display_name": "Python 3 (ipykernel)",
   "language": "python",
   "name": "python3"
  },
  "language_info": {
   "codemirror_mode": {
    "name": "ipython",
    "version": 3
   },
   "file_extension": ".py",
   "mimetype": "text/x-python",
   "name": "python",
   "nbconvert_exporter": "python",
   "pygments_lexer": "ipython3",
   "version": "3.10.4"
  }
 },
 "nbformat": 4,
 "nbformat_minor": 5
}
