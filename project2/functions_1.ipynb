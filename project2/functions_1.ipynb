{
 "cells": [
  {
   "cell_type": "code",
   "execution_count": null,
   "id": "684e933a-d4cf-4ede-a823-088a49bae86b",
   "metadata": {},
   "outputs": [],
   "source": [
    "import numpy as np\n",
    "import networkx as nx\n",
    "import matplotlib.pyplot as plt"
   ]
  },
  {
   "cell_type": "markdown",
   "id": "89d555f6-b1d4-4010-93df-533cdc0c48f2",
   "metadata": {},
   "source": [
    "## Counting Cliques"
   ]
  },
  {
   "cell_type": "code",
   "execution_count": null,
   "id": "f61b7c0e-a3e3-46da-a276-b3db4b4402d1",
   "metadata": {},
   "outputs": [],
   "source": [
    "from itertools import combinations, product \n",
    "\n",
    "def num_q_cliques_from_adjacency_matrix(adj, q):\n",
    "    \"\"\"Computes the number of q-cliques of a given graph (defined through an adjacency matrix).\"\"\"\n",
    "    n = len(adj)\n",
    "    node_combinations = combinations(range(n),q)\n",
    "    cycles = [all(adj[x][y] for x, y in product(l,l) if x != y) for l in node_combinations]\n",
    "    num_cycles = sum(cycles)\n",
    "    return num_cycles"
   ]
  },
  {
   "cell_type": "code",
   "execution_count": 5,
   "id": "08e978cf-ad19-48a6-b4c8-a007dcf0e3cf",
   "metadata": {},
   "outputs": [],
   "source": [
    "def num_q_cliques(G, q):\n",
    "    \"\"\"Computes the number of q-cliques of a given graph (defined through a networkx graph).\"\"\"\n",
    "    cliques = list(nx.enumerate_all_cliques(G))\n",
    "    q_cliques = [c for c in cliques if len(c) == q]\n",
    "    return len(q_cliques)"
   ]
  },
  {
   "cell_type": "code",
   "execution_count": 6,
   "id": "d9962776-fe0e-46d8-9254-0eb0151ec383",
   "metadata": {},
   "outputs": [],
   "source": [
    "from collections import Counter\n",
    "def counter_num_cliques(G):\n",
    "    \"\"\"Computes the number of q-cliques of a given graph (defined through a networkx graph).\"\"\"\n",
    "    cliques = list(nx.enumerate_all_cliques(G))\n",
    "    len_cliques = list(map(len,cliques))\n",
    "    return Counter(len_cliques)"
   ]
  },
  {
   "cell_type": "code",
   "execution_count": 5,
   "id": "a550b487-656b-488a-a0ee-9870f43a36c0",
   "metadata": {},
   "outputs": [],
   "source": [
    "from itertools import chain\n",
    "def count_3_4_cliques(prev_G, prev_num_3_4_cliques, new_edge):\n",
    "    \"\"\"Appends the new edge to the previous edges and updates the prev_cliques structure accordingly.\n",
    "    For a new edge (a,b), check for all nodes c such that (a,b) and (a,c) are already in the graph,\n",
    "    and append those to the new Counter;\n",
    "    Also check for all nodes c and d such that (a,c), (c,d), and (d,b) are in the graph, \n",
    "    and append those to the new Counter.\"\"\"\n",
    "    a, b, data = new_edge\n",
    "    # 3 cliques\n",
    "    all_c = set(G[a]) & set(G[b]) # intersection of neighbors of a and b\n",
    "    prev_num_3_4_cliques[3] += len(all_c)\n",
    "    # 4 cliques\n",
    "    possible_d = set(chain.from_iterable(G[c] for c in G[a]))\n",
    "    all_d = possible_d & set(G[b])\n",
    "    prev_num_3_4_cliques[4] += len(all_d)\n",
    "    # return\n",
    "    return prev_G, prev_num_3_4_cliques"
   ]
  },
  {
   "cell_type": "markdown",
   "id": "fc5ddd25-3935-4654-872c-6ab83b64f265",
   "metadata": {},
   "source": [
    "## Other Functions"
   ]
  },
  {
   "cell_type": "code",
   "execution_count": null,
   "id": "77359d5e-d6f7-474c-89f1-b4b0c9d8e131",
   "metadata": {},
   "outputs": [],
   "source": [
    "erdos_reyni_p_MLE = lambda num_edges, num_nodes: (2 * num_edges) / (num_nodes * (num_nodes - 1))"
   ]
  },
  {
   "cell_type": "code",
   "execution_count": null,
   "id": "c9d01710-b8c8-4e93-a38a-cd32dcf2dc09",
   "metadata": {},
   "outputs": [],
   "source": [
    "from math import comb\n",
    "erdos_reyni_estimated_q_cliques = lambda q, num_nodes, p: comb(num_nodes, q) * (p ** (q * (q - 1) / 2))"
   ]
  },
  {
   "cell_type": "code",
   "execution_count": null,
   "id": "7d47a307-5036-4866-bb5e-d5dfbaf8ea16",
   "metadata": {},
   "outputs": [],
   "source": [
    "def ssbm_a_b_MM(num_nodes, num_edges, num_3_cliques):\n",
    "    \"\"\"Return the expected values for a and b for the SSBM with 2-communities SSBM(n,2,a,b) by Method of Moments.\"\"\"\n",
    "    c_1 = 4 * num_edges / (num_nodes * (num_nodes - 1))\n",
    "    c_2 = 24 * num_3_cliques / (num_nodes * (num_nodes - 1) * (num_nodes - 2))\n",
    "    a_MM = (1/2) * (c_1 + (2 * c_2 - c_1 ** 3) ** (1/3))\n",
    "    b_MM = (1/2) * (c_1 - (2 * c_2 - c_1 ** 3) ** (1/3))\n",
    "    return a_MM, b_MM"
   ]
  },
  {
   "cell_type": "code",
   "execution_count": null,
   "id": "38e4abca-5d80-40ea-adb7-9135078c3dfc",
   "metadata": {},
   "outputs": [],
   "source": [
    "def ssbm_a_b_CMM(num_nodes, num_edges, num_3_cliques):\n",
    "    \"\"\"Return the expected values for a and b for the SSBM with 2-communities SSBM(n,2,a,b) \n",
    "    by Modified Constrained Moment Matching Algorithm 2.\"\"\"\n",
    "    n, m, t = num_nodes, num_edges, num_3_cliques\n",
    "    p = 2*m/(n*(n-1))\n",
    "    delta = 6*t/(n*(n-1)*(n-2)) - p**3\n",
    "    A1, A2 = max(0,2*p-1), min(1,2*p)\n",
    "    P = lambda A:(A-p)**3 - delta \n",
    "    PA1, PA2 = P(A1), P(A2)\n",
    "    if PA1 <= 0 <= PA2: a_CMM, b_CMM = p + delta**(1/3), p - delta**(1/3) \n",
    "    elif PA2 < 0:       a_CMM, b_CMM = A2, 2*p-A2\n",
    "    else:               a_CMM, b_CMM = A1, 2*p-A1\n",
    "    return a_CMM, b_CMM"
   ]
  },
  {
   "cell_type": "code",
   "execution_count": 3,
   "id": "0901d9fb-a959-4069-bf10-04ccc733a9ef",
   "metadata": {},
   "outputs": [],
   "source": [
    "def ssbm_estimated_q_cliques(q, num_nodes, a, b):\n",
    "    n = num_nodes\n",
    "    E_n1 = n / 2\n",
    "    E_n1_square = (n ** 2 + n) / 4\n",
    "    E_n1_cube = (n ** 2) * (n + 3) / 8\n",
    "    E_n1_quad = n * (n + 1) * (n ** 2 + 5 * n - 2) / 16\n",
    "\n",
    "    if q == 3:\n",
    "        expected_3_cliques = (\n",
    "            (n - 3)*(n**2 - 2*n*E_n1 + 2*E_n1_square) -\n",
    "            n*E_n1_square*(n - E_n1) + 2*n\n",
    "        ) / 6 * a**3 + \\\n",
    "        (\n",
    "            (n*E_n1 - E_n1_square)*(n - 2)\n",
    "        ) / 2 * (a*b**2)\n",
    "        return expected_3_cliques\n",
    "    elif q == 4:\n",
    "        expected_4_cliques = (\n",
    "            (a ** 6) / 24 *\n",
    "            (   \n",
    "                2 * E_n1_quad - \n",
    "                4 * n * E_n1_cube + \n",
    "                (6 * (n ** 2) - 18 * n + 22) * E_n1_square + \n",
    "                (-4 * (n ** 3) + 18 * (n ** 2) - 22 * n) * E_n1 + \n",
    "                (n ** 4) - 6 * (n ** 3) + 11 * (n ** 2) - 6 * n\n",
    "            ) +\n",
    "            (a ** 3) * (b ** 3) / 6 *\n",
    "            (\n",
    "                -2 * E_n1_quad +\n",
    "                4 * n * E_n1_cube +\n",
    "                (-3 * (n ** 2) + 3 * n - 4) * E_n1_square +\n",
    "                ((n ** 3) - 3 * (n ** 2) + 4 * n) * E_n1\n",
    "            ) +\n",
    "            (a ** 2) * (b ** 4) / 4 *\n",
    "            (\n",
    "                E_n1_quad -\n",
    "                2 * n * E_n1_cube + \n",
    "                ((n ** 2) + n - 1) * E_n1_square +\n",
    "                (-(n ** 2) + n) * E_n1\n",
    "            )\n",
    "        )\n",
    "        return expected_4_cliques\n",
    "    else:\n",
    "        raise Exception(\"q must be 3 or 4.\")\n"
   ]
  },
  {
   "cell_type": "code",
   "execution_count": 8,
   "id": "45a7b050-f014-4b72-94d7-ed95357b39a3",
   "metadata": {},
   "outputs": [
    {
     "name": "stdout",
     "output_type": "stream",
     "text": [
      "Part 1 functions imported.\n"
     ]
    }
   ],
   "source": [
    "print(\"Part 1 functions imported.\")"
   ]
  }
 ],
 "metadata": {
  "kernelspec": {
   "display_name": "Python 3 (ipykernel)",
   "language": "python",
   "name": "python3"
  },
  "language_info": {
   "codemirror_mode": {
    "name": "ipython",
    "version": 3
   },
   "file_extension": ".py",
   "mimetype": "text/x-python",
   "name": "python",
   "nbconvert_exporter": "python",
   "pygments_lexer": "ipython3",
   "version": "3.10.4"
  }
 },
 "nbformat": 4,
 "nbformat_minor": 5
}
