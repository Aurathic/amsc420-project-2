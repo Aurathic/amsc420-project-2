{
 "cells": [
  {
   "cell_type": "code",
   "execution_count": 4,
   "id": "684e933a-d4cf-4ede-a823-088a49bae86b",
   "metadata": {},
   "outputs": [],
   "source": [
    "import numpy as np\n",
    "import networkx as nx\n",
    "import matplotlib.pyplot as plt"
   ]
  },
  {
   "cell_type": "markdown",
   "id": "89d555f6-b1d4-4010-93df-533cdc0c48f2",
   "metadata": {},
   "source": [
    "## Counting Cliques"
   ]
  },
  {
   "cell_type": "code",
   "execution_count": 23,
   "id": "bcd239ef-ffa0-4c49-aa3b-c828e7c09621",
   "metadata": {},
   "outputs": [],
   "source": [
    "def neighbors(G, n):\n",
    "    return set(G[n]) if n in G else set()"
   ]
  },
  {
   "cell_type": "code",
   "execution_count": 65,
   "id": "a550b487-656b-488a-a0ee-9870f43a36c0",
   "metadata": {},
   "outputs": [],
   "source": [
    "from itertools import chain\n",
    "def count_3_4_cliques(G, num_3_4_cliques, new_edge):\n",
    "    \"\"\"Appends the new edge to the previous edges and updates the prev_cliques structure accordingly.\n",
    "    For a new edge (a,b), check for all nodes c such that (a,b) and (a,c) are already in the graph,\n",
    "    and append those to the new Counter;\n",
    "    Also check for all nodes c and d such that (a,c), (c,d), and (d,b) are in the graph, \n",
    "    and append those to the new Counter.\"\"\"\n",
    "    a, b, *data = new_edge\n",
    "    #print(a,b)\n",
    "    # 3 cliques\n",
    "    adj_a = neighbors(G,a)\n",
    "    adj_b = neighbors(G,b)\n",
    "    \n",
    "    all_c = adj_a & adj_b # intersection of neighbors of a and b\n",
    "    num_3_4_cliques[3] += len(all_c)\n",
    "    # 4 cliques\n",
    "    \"\"\"\n",
    "    possible_d = set().union(*[neighbors(G,c) for c in all_c])\n",
    "    all_d = possible_d & all_c\n",
    "    print(all_c, \"&\", possible_d, \"->\", all_d)\n",
    "    \"\"\"\n",
    "    all_d = [v for c in all_c for v in neighbors(G,c) if v in all_c]\n",
    "    #print(all_d)\n",
    "    \n",
    "    num_3_4_cliques[4] += len(all_d)//2\n",
    "    # return\n",
    "    G.add_edge(a, b)\n",
    "    return G, num_3_4_cliques"
   ]
  },
  {
   "cell_type": "markdown",
   "id": "b38b2e4e-5629-4241-8591-2476e38cea29",
   "metadata": {},
   "source": [
    "## Testing 4-cliques"
   ]
  },
  {
   "cell_type": "code",
   "execution_count": 36,
   "id": "66cbc196-3847-4e13-b51a-a2cd4fced421",
   "metadata": {},
   "outputs": [],
   "source": [
    "def num_q_cliques(G, q):\n",
    "    \"\"\"Computes the number of q-cliques of a given graph (defined through a networkx graph)\"\"\"\n",
    "    cliques = list(nx.enumerate_all_cliques(G))\n",
    "    q_cliques = [c for c in cliques if len(c) == q]\n",
    "    return len(q_cliques)"
   ]
  },
  {
   "cell_type": "code",
   "execution_count": 32,
   "id": "074d8fab-4bf4-4b63-af64-71312e4dd2f7",
   "metadata": {},
   "outputs": [],
   "source": [
    "test_G = nx.complete_graph(10)"
   ]
  },
  {
   "cell_type": "code",
   "execution_count": 68,
   "id": "c08feefa-bae5-42da-8f07-2a14a356018d",
   "metadata": {},
   "outputs": [],
   "source": [
    "#nx.draw_networkx(test_G)"
   ]
  },
  {
   "cell_type": "code",
   "execution_count": 67,
   "id": "aab2ce5a-92d8-484b-97f7-755c806c8885",
   "metadata": {},
   "outputs": [
    {
     "data": {
      "text/plain": [
       "'\\nfrom collections import Counter\\nE = list(test_G.edges())\\nnum_3_4_cliques = Counter()\\nG_sub = nx.Graph()\\nu, v = list(E[0])\\nG_sub.add_edge(u, v)\\nq3, q4 = [], []\\n\\nfor k in range(1,len(E)):\\n    G_sub, num_3_4_cliques = count_3_4_cliques(G_sub, num_3_4_cliques, E[k])\\n    #q3.append(num_3_4_cliques[3])\\n    #q4.append(num_3_4_cliques[4])\\n    print(E[k], \":\", num_q_cliques(G_sub, 4), \"vs\", num_3_4_cliques[4])\\n'"
      ]
     },
     "execution_count": 67,
     "metadata": {},
     "output_type": "execute_result"
    }
   ],
   "source": [
    "\"\"\"\n",
    "from collections import Counter\n",
    "E = list(test_G.edges())\n",
    "num_3_4_cliques = Counter()\n",
    "G_sub = nx.Graph()\n",
    "u, v = list(E[0])\n",
    "G_sub.add_edge(u, v)\n",
    "q3, q4 = [], []\n",
    "\n",
    "for k in range(1,len(E)):\n",
    "    G_sub, num_3_4_cliques = count_3_4_cliques(G_sub, num_3_4_cliques, E[k])\n",
    "    #q3.append(num_3_4_cliques[3])\n",
    "    #q4.append(num_3_4_cliques[4])\n",
    "    print(E[k], \":\", num_q_cliques(G_sub, 4), \"vs\", num_3_4_cliques[4])\n",
    "\"\"\""
   ]
  },
  {
   "cell_type": "code",
   "execution_count": 69,
   "id": "b4743ab1-af1a-4a34-bb5e-85e81c602d0b",
   "metadata": {},
   "outputs": [],
   "source": [
    "#print(q4)"
   ]
  },
  {
   "cell_type": "markdown",
   "id": "fc5ddd25-3935-4654-872c-6ab83b64f265",
   "metadata": {},
   "source": [
    "## Other Functions"
   ]
  },
  {
   "cell_type": "code",
   "execution_count": null,
   "id": "77359d5e-d6f7-474c-89f1-b4b0c9d8e131",
   "metadata": {},
   "outputs": [],
   "source": [
    "erdos_reyni_p_MLE = lambda num_edges, num_nodes: \\\n",
    "    (2 * num_edges) / (num_nodes * (num_nodes - 1))"
   ]
  },
  {
   "cell_type": "code",
   "execution_count": null,
   "id": "c9d01710-b8c8-4e93-a38a-cd32dcf2dc09",
   "metadata": {},
   "outputs": [],
   "source": [
    "from math import comb\n",
    "erdos_reyni_estimated_q_cliques = lambda q, num_nodes, p: \\\n",
    "    comb(num_nodes, q) * (p ** (q * (q - 1) / 2))"
   ]
  },
  {
   "cell_type": "code",
   "execution_count": null,
   "id": "38e4abca-5d80-40ea-adb7-9135078c3dfc",
   "metadata": {},
   "outputs": [],
   "source": [
    "def ssbm_a_b_CMM(num_nodes, num_edges, num_3_cliques):\n",
    "    \"\"\"Return the expected values for a and b for the SSBM with 2-communities SSBM(n,2,a,b) \n",
    "    by Modified Constrained Moment Matching Algorithm 2.\"\"\"\n",
    "    n, m, t = num_nodes, num_edges, num_3_cliques\n",
    "    p = 2*m/(n*(n-1))\n",
    "    delta = 6*t/(n*(n-1)*(n-2)) - p**3\n",
    "    A1, A2 = max(0,2*p-1), min(1,2*p)\n",
    "    P = lambda A:(A-p)**3 - delta \n",
    "    PA1, PA2 = P(A1), P(A2)\n",
    "    if PA1 <= 0 <= PA2: a_CMM, b_CMM = p + delta**(1/3), p - delta**(1/3) \n",
    "    elif PA2 < 0:       a_CMM, b_CMM = A2, 2*p-A2\n",
    "    else:               a_CMM, b_CMM = A1, 2*p-A1\n",
    "    # Adjust to produce the Modified Constrained Moment Matching estimates\n",
    "    if b_CMM == 0:   a_MCMM, b_MCMM = 0.99*a_CMM, 0.01*a_CMM\n",
    "    elif a_CMM == 0: a_MCMM, b_MCMM = 0.01*b_CMM, 0.99*b_CMM\n",
    "    else:            a_MCMM, b_MCMM = a_CMM, b_CMM\n",
    "    return a_MCMM, b_MCMM"
   ]
  },
  {
   "cell_type": "code",
   "execution_count": 1,
   "id": "0901d9fb-a959-4069-bf10-04ccc733a9ef",
   "metadata": {},
   "outputs": [],
   "source": [
    "def ssbm_estimated_q_cliques(q, num_nodes, a, b):\n",
    "    n = num_nodes\n",
    "    if q == 3:\n",
    "        expected_3_cliques = (\n",
    "            (n*(n-1)*(n-2)/24) * (a**3 + 3*a*b**2)\n",
    "        )\n",
    "        return expected_3_cliques\n",
    "    elif q == 4:\n",
    "        E_n1 = n / 2\n",
    "        E_n1_square = (n ** 2 + n) / 4\n",
    "        E_n1_cube = (n ** 2) * (n + 3) / 8\n",
    "        E_n1_quad = n * (n + 1) * (n ** 2 + 5 * n - 2) / 16\n",
    "        expected_4_cliques = (\n",
    "            (a ** 6) / 24 *\n",
    "            (   \n",
    "                2 * E_n1_quad - \n",
    "                4 * n * E_n1_cube + \n",
    "                (6 * (n ** 2) - 18 * n + 22) * E_n1_square + \n",
    "                (-4 * (n ** 3) + 18 * (n ** 2) - 22 * n) * E_n1 + \n",
    "                (n ** 4) - 6 * (n ** 3) + 11 * (n ** 2) - 6 * n\n",
    "            ) +\n",
    "            (a ** 3) * (b ** 3) / 6 *\n",
    "            (\n",
    "                -2 * E_n1_quad +\n",
    "                4 * n * E_n1_cube +\n",
    "                (-3 * (n ** 2) + 3 * n - 4) * E_n1_square +\n",
    "                ((n ** 3) - 3 * (n ** 2) + 4 * n) * E_n1\n",
    "            ) +\n",
    "            (a ** 2) * (b ** 4) / 4 *\n",
    "            (\n",
    "                E_n1_quad -\n",
    "                2 * n * E_n1_cube + \n",
    "                ((n ** 2) + n - 1) * E_n1_square +\n",
    "                (-(n ** 2) + n) * E_n1\n",
    "            )\n",
    "        )\n",
    "        return expected_4_cliques\n",
    "    else:\n",
    "        raise Exception(\"q must be 3 or 4.\")\n"
   ]
  },
  {
   "cell_type": "code",
   "execution_count": 3,
   "id": "45a7b050-f014-4b72-94d7-ed95357b39a3",
   "metadata": {},
   "outputs": [
    {
     "name": "stdout",
     "output_type": "stream",
     "text": [
      "Part 1 functions imported.\n"
     ]
    }
   ],
   "source": [
    "print(\"Part 1 functions imported.\")"
   ]
  }
 ],
 "metadata": {
  "kernelspec": {
   "display_name": "Python 3 (ipykernel)",
   "language": "python",
   "name": "python3"
  },
  "language_info": {
   "codemirror_mode": {
    "name": "ipython",
    "version": 3
   },
   "file_extension": ".py",
   "mimetype": "text/x-python",
   "name": "python",
   "nbconvert_exporter": "python",
   "pygments_lexer": "ipython3",
   "version": "3.10.4"
  }
 },
 "nbformat": 4,
 "nbformat_minor": 5
}
