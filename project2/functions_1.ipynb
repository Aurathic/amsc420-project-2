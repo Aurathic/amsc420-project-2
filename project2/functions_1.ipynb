{
 "cells": [
  {
   "cell_type": "code",
   "execution_count": null,
   "id": "684e933a-d4cf-4ede-a823-088a49bae86b",
   "metadata": {},
   "outputs": [],
   "source": [
    "import numpy as np\n",
    "import networkx as nx\n",
    "import matplotlib.pyplot as plt"
   ]
  },
  {
   "cell_type": "code",
   "execution_count": null,
   "id": "f61b7c0e-a3e3-46da-a276-b3db4b4402d1",
   "metadata": {},
   "outputs": [],
   "source": [
    "from itertools import combinations, product \n",
    "\n",
    "def num_q_cliques(adj, q):\n",
    "    \"\"\"Computes the number of q-cliques of a given graph (defined through a list of edges).\"\"\"\n",
    "    n = len(adj)\n",
    "    node_combinations = combinations(range(n),q)\n",
    "    cycles = [all(adj[x][y] for x, y in product(l,l) if x != y) for l in node_combinations]\n",
    "    num_cycles = sum(cycles)\n",
    "    return num_cycles"
   ]
  },
  {
   "cell_type": "code",
   "execution_count": null,
   "id": "77359d5e-d6f7-474c-89f1-b4b0c9d8e131",
   "metadata": {},
   "outputs": [],
   "source": [
    "erdos_reyni_p_MLE = lambda num_edges, num_nodes: (2 * num_edges) / (num_nodes * (num_nodes - 1))"
   ]
  },
  {
   "cell_type": "code",
   "execution_count": null,
   "id": "c9d01710-b8c8-4e93-a38a-cd32dcf2dc09",
   "metadata": {},
   "outputs": [],
   "source": [
    "from math import comb\n",
    "erdos_reyni_estimated_q_cliques = lambda q, num_nodes, p: comb(num_nodes, q) * (p ** (q * (q - 1) / 2))"
   ]
  },
  {
   "cell_type": "code",
   "execution_count": null,
   "id": "7d47a307-5036-4866-bb5e-d5dfbaf8ea16",
   "metadata": {},
   "outputs": [],
   "source": [
    "def ssbm_a_b_MM(num_nodes, num_edges, num_3_cliques):\n",
    "    \"\"\"Return the expected values for a and b for the SSBM with 2-communities SSBM(n,2,a,b) by Method of Moments.\"\"\"\n",
    "    c_1 = 4 * num_edges / (num_nodes * (num_nodes - 1))\n",
    "    c_2 = 24 * num_3_cliques / (num_nodes * (num_nodes - 1) * (num_nodes - 2))\n",
    "    a_MM = (1/2) * (c_1 + (2 * c_2 - c_1 ** 3) ** (1/3))\n",
    "    b_MM = (1/2) * (c_1 - (2 * c_2 - c_1 ** 3) ** (1/3))\n",
    "    return a_MM, b_MM"
   ]
  },
  {
   "cell_type": "code",
   "execution_count": null,
   "id": "38e4abca-5d80-40ea-adb7-9135078c3dfc",
   "metadata": {},
   "outputs": [],
   "source": [
    "def ssbm_a_b_CMM(num_nodes, num_edges, num_3_cliques):\n",
    "    \"\"\"Return the expected values for a and b for the SSBM with 2-communities SSBM(n,2,a,b) \n",
    "    by Modified Constrained Moment Matching Algorithm 2.\"\"\"\n",
    "    n, m, t = num_nodes, num_edges, num_3_cliques\n",
    "    p = 2*m/(n*(n-1))\n",
    "    delta = 6*t/(n*(n-1)*(n-2)) - p**3\n",
    "    A1, A2 = max(0,2*p-1), min(1,2*p)\n",
    "    P = lambda A:(A-p)**3 - delta \n",
    "    PA1, PA2 = P(A1), P(A2)\n",
    "    if PA1 <= 0 <= PA2: a_CMM, b_CMM = p + delta**(1/3), p - delta**(1/3) \n",
    "    elif PA2 < 0:       a_CMM, b_CMM = A2, 2*p-A2\n",
    "    else:               a_CMM, b_CMM = A1, 2*p-A1\n",
    "    return a_CMM, b_CMM"
   ]
  },
  {
   "cell_type": "code",
   "execution_count": null,
   "id": "0901d9fb-a959-4069-bf10-04ccc733a9ef",
   "metadata": {},
   "outputs": [],
   "source": [
    "def ssbm_estimated_q_cliques(q, n, a_MM, b_MM):\n",
    "    E_n1 = n / 2\n",
    "    E_n1_square = (n ** 2 + n) / 4\n",
    "    E_n1_cube = (n ** 2) * (n + 3) / 8\n",
    "    E_n1_quad = n * (n + 1) * (n ** 2 + 5 * n - 2) / 16\n",
    "\n",
    "    expected_4_cliques = (\n",
    "        (a_MM ** 6) / 24 *\n",
    "        (   \n",
    "            2 * E_n1_quad - \n",
    "            4 * n * E_n1_cube + \n",
    "            (6 * (n ** 2) - 18 * n + 22) * E_n1_square + \n",
    "            (-4 * (n ** 3) + 18 * (n ** 2) - 22 * n) * E_n1 + \n",
    "            (n ** 4) - 6 * (n ** 3) + 11 * (n ** 2) - 6 * n\n",
    "        ) +\n",
    "        (a_MM ** 3) * (b_MM ** 3) / 6 *\n",
    "        (\n",
    "            -2 * E_n1_quad +\n",
    "            4 * n * E_n1_cube +\n",
    "            (-3 * (n ** 2) + 3 * n - 4) * E_n1_square +\n",
    "            ((n ** 3) - 3 * (n ** 2) + 4 * n) * E_n1\n",
    "        ) +\n",
    "        (a_MM ** 2) * (b_MM ** 4) / 4 *\n",
    "        (\n",
    "            E_n1_quad -\n",
    "            2 * n * E_n1_cube + \n",
    "            ((n ** 2) + n - 1) * E_n1_square +\n",
    "            (-(n ** 2) + n) * E_n1\n",
    "        )\n",
    "    )\n"
   ]
  },
  {
   "cell_type": "code",
   "execution_count": 1,
   "id": "45a7b050-f014-4b72-94d7-ed95357b39a3",
   "metadata": {},
   "outputs": [
    {
     "name": "stdout",
     "output_type": "stream",
     "text": [
      "Part 1 functions imported.\n"
     ]
    }
   ],
   "source": [
    "print(\"Part 1 functions imported.\")"
   ]
  }
 ],
 "metadata": {
  "kernelspec": {
   "display_name": "Python 3 (ipykernel)",
   "language": "python",
   "name": "python3"
  },
  "language_info": {
   "codemirror_mode": {
    "name": "ipython",
    "version": 3
   },
   "file_extension": ".py",
   "mimetype": "text/x-python",
   "name": "python",
   "nbconvert_exporter": "python",
   "pygments_lexer": "ipython3",
   "version": "3.10.4"
  }
 },
 "nbformat": 4,
 "nbformat_minor": 5
}
