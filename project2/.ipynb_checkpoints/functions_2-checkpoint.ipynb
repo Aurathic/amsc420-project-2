{
 "cells": [
  {
   "cell_type": "code",
   "execution_count": null,
   "id": "a9332932-8818-4bc1-a120-e54b02799999",
   "metadata": {},
   "outputs": [],
   "source": [
    "import numpy as np\n",
    "import networkx as nx\n",
    "import matplotlib.pyplot as plt"
   ]
  },
  {
   "cell_type": "code",
   "execution_count": 1,
   "id": "f90e4759-c076-420b-868d-7233ae5548ec",
   "metadata": {},
   "outputs": [],
   "source": [
    "def spectral_algorithm_weight(G):\n",
    "    weight = nx.adjacency_matrix(G).todense()\n",
    "    # (1) Compute the second largest eigenpair of A: (f2, μ2), with Af2 = μ2f1.\n",
    "    eigenvalues, eigenvectors = np.linalg.eig(weight)\n",
    "    sorted_eigenvectors = eigenvectors[eigenvalues.argsort()]\n",
    "    f2 = sorted_eigenvectors[-1]\n",
    "    # (2) Define the partition Ω1 = {k : f2(k) > 0}, Ω2 = {k : f2(k) ≤ 0}. Set\n",
    "    # d = 2.\n",
    "    omega1 = {k for k, g in zip(G.nodes,f2) if g > 0}\n",
    "    omega2 = {k for k, g in zip(G.nodes,f2) if g <= 0}\n",
    "    return omega1, omega2    "
   ]
  },
  {
   "cell_type": "code",
   "execution_count": null,
   "id": "080a1e3c-0eec-4e0f-981e-3817978b1e72",
   "metadata": {},
   "outputs": [],
   "source": [
    "def spectral_algorithm_laplacian(G):\n",
    "    # (1) Compute the graph Laplacian ∆ = D − A, with D = Diag(A · 1), the\n",
    "    # degree matrix.\n",
    "    laplacian = nx.laplacian_matrix(G).todense()\n",
    "    # (2) Compute the second smallest eigenpair: (e1, λ1), with ∆e1 = λ1e1\n",
    "    # and λ1 > 0 = λ0.\n",
    "    eigenvalues, eigenvectors = np.linalg.eig(laplacian)\n",
    "    sorted_eigenvectors = eigenvectors[eigenvalues.argsort()]\n",
    "    e1 = sorted_eigenvectors[1]\n",
    "    # (3) Define the partition Ω1 = {k : e1(k) > 0}, Ω2 = {k : e1(k) ≤ 0}. Set\n",
    "    # d = 2.\n",
    "    omega1 = {k for k, g in zip(G.nodes,e1) if g > 0}\n",
    "    omega2 = {k for k, g in zip(G.nodes,e1) if g <= 0}\n",
    "    return omega1, omega2    "
   ]
  },
  {
   "cell_type": "code",
   "execution_count": null,
   "id": "c6f92ffa-5d25-4dff-9fc9-0ed53dd5979e",
   "metadata": {},
   "outputs": [],
   "source": [
    "def spectral_algorithm_normalized_laplacian(G):\n",
    "    if not nx.is_connected(G):\n",
    "        return [component.nodes for component in nx.connected_components(G)]\n",
    "    else:\n",
    "        # (1) Compute the symmetric normalized graph Laplacian\n",
    "        # ∆ = I − D−1/2AD−1/2, with D = Diag(A · 1) the degree matrix.\n",
    "        normalized_laplacian = nx.normalized_laplacian_matrix(G).todense()\n",
    "        # (2) Compute the second smallest eigenpair: (e1, λ1), with  ̃∆e1 = λ1e1\n",
    "        # and λ1 > 0 = λ0.\n",
    "        eigenvalues, eigenvectors = np.linalg.eig(normalized_laplacian)\n",
    "        sorted_eigenvectors = eigenvectors[eigenvalues.argsort()]\n",
    "        e1 = sorted_eigenvectors[1]\n",
    "        # (3) Define the partition Ω1 = {k : e1(k) > 0}, Ω2 = {k : e1(k) ≤ 0}. Set\n",
    "        # d = 2\n",
    "        omega1 = {k for k, g in zip(G.nodes,e1) if g > 0}\n",
    "        omega2 = {k for k, g in zip(G.nodes,e1) if g <= 0}\n",
    "        return omega1, omega2    "
   ]
  },
  {
   "cell_type": "code",
   "execution_count": 2,
   "id": "ff9cb978-9d06-4ac6-9629-0af7156f0a11",
   "metadata": {},
   "outputs": [
    {
     "name": "stdout",
     "output_type": "stream",
     "text": [
      "Part 2 functions imported.\n"
     ]
    }
   ],
   "source": [
    "print(\"Part 2 functions imported.\")"
   ]
  }
 ],
 "metadata": {
  "kernelspec": {
   "display_name": "Python 3 (ipykernel)",
   "language": "python",
   "name": "python3"
  },
  "language_info": {
   "codemirror_mode": {
    "name": "ipython",
    "version": 3
   },
   "file_extension": ".py",
   "mimetype": "text/x-python",
   "name": "python",
   "nbconvert_exporter": "python",
   "pygments_lexer": "ipython3",
   "version": "3.10.4"
  }
 },
 "nbformat": 4,
 "nbformat_minor": 5
}
