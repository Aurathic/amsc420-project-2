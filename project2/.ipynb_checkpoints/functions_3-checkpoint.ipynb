{
 "cells": [
  {
   "cell_type": "code",
   "execution_count": null,
   "id": "2f4aae5a-fdcf-4037-bb10-9c7ae696533c",
   "metadata": {},
   "outputs": [],
   "source": [
    "import numpy as np\n",
    "import networkx as nx\n",
    "import matplotlib.pyplot as plt"
   ]
  },
  {
   "cell_type": "code",
   "execution_count": null,
   "id": "4a465007-79f0-4355-a93c-ebb3d5cb44bd",
   "metadata": {},
   "outputs": [],
   "source": [
    "from scipy.linalg import fractional_matrix_power\n",
    "\n",
    "# Laplacian Eigenmap data embedding for target dimension d = 2\n",
    "def laplacian_eigenmap(G, d):\n",
    "    # Input: Weight matrix W , target dimension d\n",
    "    weight = nx.adjacency_matrix(G).todense()\n",
    "    # (1) Construct the diagonal matrix D = diag(Dii )1≤i≤n, where\n",
    "    # Dii = ∑_{k=1}^N Wi,k\n",
    "    diagonal = np.diag(np.sum(weight,axis=1))\n",
    "    # (2) Construct the normalized Laplacian  ̃∆ = I − D−1/2WD−1/2.\n",
    "    normalized_laplacian = nx.normalized_laplacian_matrix(G).todense()\n",
    "    # (3) Compute the bottom d + 1 eigenvectors e1, · · · , ed+1,  ̃∆ek = λk ek ,\n",
    "    # 0 = λ1 ≤ · · · ≤ λd+1.\n",
    "    eigenvalues, eigenvectors = np.linalg.eig(weight)\n",
    "    sorted_eigenvectors = eigenvectors[eigenvalues.argsort()]\n",
    "    bottom_eigenvectors = sorted_eigenvectors[1:d+1]\n",
    "    # (4) Construct the d × n matrix Y:\n",
    "    # Y = [e2^T, ..., ed+1^T]^T * D−1/2\n",
    "    Y = bottom_eigenvectors @ fractional_matrix_power(diagonal,-1/2)\n",
    "    # (5) The new geometric graph is obtained by converting the columns of Y\n",
    "    # into n d-dimensional vectors:\n",
    "    # [y1 | · · · | yn] = Y\n",
    "    return Y"
   ]
  },
  {
   "cell_type": "code",
   "execution_count": null,
   "id": "9ea75bcc-2274-4693-90ff-8f187477fe4b",
   "metadata": {},
   "outputs": [],
   "source": [
    "from sklearn.neighbors import NearestNeighbors\n",
    "from scipy.optimize import minimize\n",
    "\n",
    "def dimension_reduction_lle_non_negativity_constraints(X, K, d):\n",
    "    # Input: A geometric graph {x1, x2, · · · , xn} ⊂ RN . Parameters:\n",
    "    # neighborhood size K and dimension d.\n",
    "    n = X.shape[0]\n",
    "    \n",
    "    # (1) Finding the weight matrix B: \n",
    "    B = np.zeros((n, n))\n",
    "   \n",
    "    # (Precomputing nearest neighbors for each point)\n",
    "    nn = NearestNeighbors(n_neighbors=K+1)\n",
    "    nn.fit(X)\n",
    "    _, indices = nn.kneighbors(X)\n",
    "    V = indices[:, 1:] # the closest neighbor is itself, so remove it\n",
    "    #print(indices)\n",
    "    \n",
    "    # For each point i do the following:\n",
    "    for i in range(n):\n",
    "        # (1) Find its closest K neighbors, say Vi; \n",
    "        # Let r : Vi → {1, 2, · · · , K } denote an indexing map;\n",
    "        closest_k_neighbors = X[V[i]]\n",
    "        # (2) Compute the K × K local covariance matrix C,\n",
    "        # Cr(j),r(k) = 〈xj − xi , xk − xi.\n",
    "        closest_k_neighbors_diffs = closest_k_neighbors - X[i]\n",
    "        C = np.cov(closest_k_neighbors_diffs)\n",
    "        # (3) Solve for u, minimize u^T C u subject to u ≥ 0 , u^T · 1 = 1\n",
    "        # where 1 denotes the K -vector of 1’s.\n",
    "        objective = lambda u: u.dot(C.dot(u)) \n",
    "        constraints = (\n",
    "            {'type': 'eq', 'fun': lambda u: u.dot(np.ones(K)) - 1},\n",
    "            {'type': 'ineq', 'fun': lambda u: u})\n",
    "        u0 = np.ones(K)\n",
    "        result = minimize(objective, u0, method='SLSQP', constraints=constraints)\n",
    "        u = result.x\n",
    "        # (4) Set Bi,j = ur(j) for j ∈ Vi.\n",
    "        B[i, V[i]] = u\n",
    "    assert B.shape == (n, n)\n",
    "    #print(B)\n",
    "        \n",
    "    # (2) Solving the Eigen Problem:\n",
    "    # (1) Create the (typically sparse) matrix L = (I − B)^T (I − B);\n",
    "    L = (np.eye(n) - B).T @ (np.eye(n) - B)\n",
    "    #print(L)\n",
    "    # (2) Find the bottom d + 1 eigenvectors of L (the bottom eigenvector\n",
    "    # would be [1, · · · , 1]^T associated to eigenvalue 0) {e1, e2, · · · , ed+1};\n",
    "    eigenvalues, eigenvectors = np.linalg.eig(L)\n",
    "    sorted_eigenvectors = eigenvectors[eigenvalues.argsort()]\n",
    "    # (3) Discard the last vector (the constant eigenvector) and insert all other\n",
    "    # eigenvectors as rows into matrix Y:\n",
    "    # Y = [e2^T, ..., ed+1^T]^T * D−1/2\n",
    "    Y = sorted_eigenvectors[1:d+1]\n",
    "    # Output: {y1, · · · , yn} ⊂ Rd as columns from\n",
    "    # [ y1 | · · · | yn ] = Y\n",
    "    assert Y.shape == (d, n)\n",
    "    return Y"
   ]
  },
  {
   "cell_type": "code",
   "execution_count": null,
   "id": "8c68cae4-9208-4777-b766-02ea0b5cad10",
   "metadata": {},
   "outputs": [],
   "source": [
    "print(\"Part 3 functions imported.\")"
   ]
  }
 ],
 "metadata": {
  "kernelspec": {
   "display_name": "Python 3 (ipykernel)",
   "language": "python",
   "name": "python3"
  },
  "language_info": {
   "codemirror_mode": {
    "name": "ipython",
    "version": 3
   },
   "file_extension": ".py",
   "mimetype": "text/x-python",
   "name": "python",
   "nbconvert_exporter": "python",
   "pygments_lexer": "ipython3",
   "version": "3.10.4"
  }
 },
 "nbformat": 4,
 "nbformat_minor": 5
}
