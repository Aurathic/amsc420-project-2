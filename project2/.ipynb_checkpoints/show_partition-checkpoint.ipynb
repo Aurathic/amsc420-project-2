{
 "cells": [
  {
   "cell_type": "code",
   "execution_count": null,
   "id": "c541afbb-62b5-44d2-b5ab-0d4fb216b203",
   "metadata": {},
   "outputs": [],
   "source": [
    "def show_partition(partition_nodes_sets, weighted_edge=False, max_width=5):\n",
    "    plt.figure(figsize=(30,20))\n",
    "    colors = ['red' if node in partition_nodes_sets[0] else 'dodgerblue' for node in range(40)]\n",
    "    if not weighted_edge:\n",
    "        nx.draw_networkx(G, pos=pos, node_color=colors, with_labels=False, node_size=1000, width=max_width/2.5)\n",
    "    else:\n",
    "        nx.draw_networkx_nodes(G, pos=pos, node_color=colors, node_size=1000)\n",
    "        for edge in G.edges(data='weight'):\n",
    "            nx.draw_networkx_edges(G, pos, edgelist=[edge], width=edge[2]*max_width)\n",
    "    nx.draw_networkx_labels(G, pos=pos, labels=labels)"
   ]
  },
  {
   "cell_type": "code",
   "execution_count": 1,
   "id": "0e81cc3d-9555-466e-aa3e-1344163b427c",
   "metadata": {},
   "outputs": [
    {
     "name": "stdout",
     "output_type": "stream",
     "text": [
      "show_partition() imported.\n"
     ]
    }
   ],
   "source": [
    "print(\"show_partition() imported.\")"
   ]
  }
 ],
 "metadata": {
  "kernelspec": {
   "display_name": "Python 3 (ipykernel)",
   "language": "python",
   "name": "python3"
  },
  "language_info": {
   "codemirror_mode": {
    "name": "ipython",
    "version": 3
   },
   "file_extension": ".py",
   "mimetype": "text/x-python",
   "name": "python",
   "nbconvert_exporter": "python",
   "pygments_lexer": "ipython3",
   "version": "3.10.4"
  }
 },
 "nbformat": 4,
 "nbformat_minor": 5
}
