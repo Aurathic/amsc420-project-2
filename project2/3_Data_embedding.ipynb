{
 "cells": [
  {
   "cell_type": "markdown",
   "id": "95d114c3-34b0-4703-83e8-c496437fc395",
   "metadata": {},
   "source": [
    "# III. Data Emedding"
   ]
  },
  {
   "cell_type": "code",
   "execution_count": 2,
   "id": "bb2a271e-0f08-4587-ae85-543e7a1ee8e2",
   "metadata": {},
   "outputs": [
    {
     "name": "stdout",
     "output_type": "stream",
     "text": [
      "Part 3 functions imported.\n"
     ]
    }
   ],
   "source": [
    "%run functions_3.ipynb"
   ]
  },
  {
   "cell_type": "code",
   "execution_count": 3,
   "id": "adac31d3-c726-4911-bd6f-cbc62423e1b6",
   "metadata": {},
   "outputs": [],
   "source": [
    "# For this task use the weight matrix W.\n",
    "G = nx.Graph(np.genfromtxt(\"data/sgb128Nodes41to80_weight20.txt\", delimiter=' ', skip_header=1))"
   ]
  },
  {
   "cell_type": "code",
   "execution_count": 4,
   "id": "0388da69-f0a5-497b-9d5b-31b068e7ec7d",
   "metadata": {},
   "outputs": [],
   "source": [
    "# Implement the Laplacian Eigenmap and the Local Linear Embeding (LLE)\n",
    "# algorithms using the weight matrix W , and run them on your project data set.\n",
    "# Specifically, implement and run:"
   ]
  },
  {
   "cell_type": "code",
   "execution_count": 6,
   "id": "d38e466b-9d99-42ff-8f71-8c2fae36d66b",
   "metadata": {},
   "outputs": [
    {
     "name": "stdout",
     "output_type": "stream",
     "text": [
      "[[ 2.52103625e-02  6.94136072e-02]\n",
      " [-6.79956358e-02  2.04208091e-02]\n",
      " [-5.50946273e-02  2.14941374e-03]\n",
      " [ 1.93891281e-01 -2.24605247e-01]\n",
      " [-1.88068883e-02  1.30674138e-02]\n",
      " [-3.77857915e-02 -8.17262818e-05]\n",
      " [ 3.63810179e-02 -1.14998772e-02]\n",
      " [-2.30541885e-02 -3.96773834e-02]\n",
      " [ 5.98200492e-02 -3.71813889e-02]\n",
      " [ 2.04771668e-02  6.24106554e-02]\n",
      " [ 3.52130211e-04  3.74517601e-02]\n",
      " [ 5.58213863e-02 -4.16686070e-02]\n",
      " [-4.35205427e-02  1.59725460e-01]\n",
      " [-3.86200879e-02  6.71885035e-02]\n",
      " [ 4.55699771e-02 -1.38431473e-02]\n",
      " [-3.62665343e-02  1.02607621e-02]\n",
      " [-1.79905474e-01 -4.25185907e-02]\n",
      " [-8.58729267e-02 -8.50574705e-02]\n",
      " [-5.86733552e-02  9.71853848e-02]\n",
      " [ 1.79369088e-01  1.77350529e-01]\n",
      " [ 6.53610917e-02  8.38879977e-02]\n",
      " [-2.16293840e-02  4.91548555e-02]\n",
      " [-1.97097157e-01 -5.71984133e-02]\n",
      " [ 4.70901975e-02 -3.79296919e-02]\n",
      " [ 6.39482314e-03  1.29108607e-02]\n",
      " [-1.91568628e-02  4.61414464e-02]\n",
      " [-6.07352223e-03  2.24124483e-02]\n",
      " [-1.35653611e-02  8.32236012e-03]\n",
      " [-2.27695421e-03  7.91243480e-02]\n",
      " [ 5.11677691e-02 -1.26025893e-01]\n",
      " [-1.29315634e-03  1.63100045e-03]\n",
      " [ 8.50196243e-03 -3.47802426e-02]\n",
      " [-1.78583711e-02  6.18804982e-02]\n",
      " [-1.74699897e-03  5.47656513e-04]\n",
      " [ 8.87672712e-02  3.91195722e-02]\n",
      " [ 3.81039922e-02  6.71988379e-02]\n",
      " [-6.50667500e-03  2.73165062e-02]\n",
      " [ 1.14909718e-02  2.10924316e-02]\n",
      " [ 1.75822233e-02 -9.27845453e-02]\n",
      " [-1.48329645e-03 -1.32972685e-02]]\n"
     ]
    }
   ],
   "source": [
    "# 1. Laplacian Eigenmap data embedding for target dimension d = 2;\n",
    "laplacian_eigenmap_embedding = laplacian_eigenmap(G,d=2).T\n",
    "print(laplacian_eigenmap_embedding)"
   ]
  },
  {
   "cell_type": "code",
   "execution_count": 7,
   "id": "3da5986b-4e89-4231-956b-397bd5e4dc2b",
   "metadata": {},
   "outputs": [],
   "source": [
    "# 2. LLE dimension reduction after Laplacian Eigenmap data embedding:"
   ]
  },
  {
   "cell_type": "code",
   "execution_count": 8,
   "id": "b0cf52e8-f248-4b6a-86ec-d309e7755e06",
   "metadata": {},
   "outputs": [
    {
     "name": "stdout",
     "output_type": "stream",
     "text": [
      "(40, 10)\n"
     ]
    }
   ],
   "source": [
    "# (a) First run the Laplacian Eigenmap data embedding algorithm to cre-\n",
    "# ate a geometric graph {x1, . . . , xn} ⊂ RN with N = 10;\n",
    "laplacian_eigenmap_graph = laplacian_eigenmap(G,d=10).T\n",
    "print(laplacian_eigenmap_graph.shape, sep=\"\\n\")"
   ]
  },
  {
   "cell_type": "code",
   "execution_count": 11,
   "id": "71667328-fb8d-42c6-ad78-3f4cb482d78e",
   "metadata": {},
   "outputs": [
    {
     "name": "stdout",
     "output_type": "stream",
     "text": [
      "[[-5.34131065e-01  7.54870905e-02]\n",
      " [-4.85579046e-01 -1.66161738e-01]\n",
      " [ 3.30557159e-02 -1.51852254e-01]\n",
      " [ 1.08153767e-01 -3.64866354e-01]\n",
      " [-1.51930146e-01 -1.35890675e-01]\n",
      " [ 6.54812727e-02 -1.68147427e-01]\n",
      " [ 2.85008081e-02  9.57178800e-02]\n",
      " [-9.94159893e-02 -4.64825339e-02]\n",
      " [ 1.83527052e-01 -9.64805262e-02]\n",
      " [ 1.42411148e-01 -1.02368657e-02]\n",
      " [-1.98559322e-02 -2.23811093e-01]\n",
      " [ 3.33254252e-02 -1.35015654e-01]\n",
      " [-1.16005634e-01  1.70413939e-01]\n",
      " [ 9.92818380e-02  3.06046708e-02]\n",
      " [ 1.29485857e-01  1.61703758e-01]\n",
      " [ 7.68631685e-03 -2.62665179e-01]\n",
      " [-8.92327254e-02 -2.48277619e-02]\n",
      " [-1.52206099e-02  1.29834917e-01]\n",
      " [ 8.77510489e-02  3.77115320e-02]\n",
      " [-2.12861381e-02 -1.45599783e-01]\n",
      " [ 7.28267728e-02 -5.26706246e-02]\n",
      " [-1.35117727e-02  6.74065672e-02]\n",
      " [ 5.20842192e-04  1.68322745e-01]\n",
      " [-8.14497560e-05 -5.63896489e-02]\n",
      " [ 2.12884258e-02  4.30968365e-02]\n",
      " [ 2.70892569e-02 -2.18416208e-01]\n",
      " [ 8.66350527e-02  4.46018778e-02]\n",
      " [ 4.88778596e-02  7.44428443e-02]\n",
      " [ 1.58113883e-01  1.58113883e-01]\n",
      " [-1.44343298e-01  8.81078661e-02]\n",
      " [-7.65460129e-02 -2.38278163e-01]\n",
      " [ 2.01003610e-01 -8.54082829e-03]\n",
      " [ 4.94672203e-02  1.55976107e-01]\n",
      " [-1.10783925e-01  2.55447782e-01]\n",
      " [-6.06069949e-02  1.65385022e-01]\n",
      " [-2.81539649e-02 -3.45384564e-01]\n",
      " [ 5.36738545e-02 -8.28758945e-02]\n",
      " [-1.14629898e-02  2.75747535e-01]\n",
      " [-2.76196919e-01 -5.23192199e-02]\n",
      " [ 3.30086951e-01 -4.57340705e-02]]\n"
     ]
    }
   ],
   "source": [
    "# (b) Then implement and run the dimension reduction LLE algorithm\n",
    "# with non-negativity constraints on the this geometric graph to reduce\n",
    "# dimension to d = 2; use K = 2d = 4.\n",
    "lle_embedding = dimension_reduction_lle_non_negativity_constraints(laplacian_eigenmap_graph, K=4, d=2)\n",
    "print(lle_embedding.T, sep=\"\\n\")"
   ]
  },
  {
   "cell_type": "code",
   "execution_count": 13,
   "id": "70ca5c65-d557-41e8-8c57-8bd4d7c6444c",
   "metadata": {},
   "outputs": [
    {
     "ename": "TypeError",
     "evalue": "Axes.scatter() takes from 3 to 12 positional arguments but 41 were given",
     "output_type": "error",
     "traceback": [
      "\u001b[1;31m---------------------------------------------------------------------------\u001b[0m",
      "\u001b[1;31mTypeError\u001b[0m                                 Traceback (most recent call last)",
      "Input \u001b[1;32mIn [13]\u001b[0m, in \u001b[0;36m<cell line: 11>\u001b[1;34m()\u001b[0m\n\u001b[0;32m      8\u001b[0m add_axis_lines(ax2)\n\u001b[0;32m      9\u001b[0m add_axis_lines(ax1)\n\u001b[1;32m---> 11\u001b[0m \u001b[43max1\u001b[49m\u001b[38;5;241;43m.\u001b[39;49m\u001b[43mscatter\u001b[49m\u001b[43m(\u001b[49m\u001b[38;5;241;43m*\u001b[39;49m\u001b[43mlaplacian_eigenmap_embedding\u001b[49m\u001b[43m,\u001b[49m\u001b[43mcolor\u001b[49m\u001b[38;5;241;43m=\u001b[39;49m\u001b[38;5;124;43m\"\u001b[39;49m\u001b[38;5;124;43mblue\u001b[39;49m\u001b[38;5;124;43m\"\u001b[39;49m\u001b[43m)\u001b[49m\n\u001b[0;32m     12\u001b[0m ax1\u001b[38;5;241m.\u001b[39mset_title(\u001b[38;5;124m\"\u001b[39m\u001b[38;5;124mLaplacian Eigenmap Embedding\u001b[39m\u001b[38;5;124m\"\u001b[39m)\n\u001b[0;32m     14\u001b[0m ax2\u001b[38;5;241m.\u001b[39mscatter(\u001b[38;5;241m*\u001b[39mlle_embedding, s\u001b[38;5;241m=\u001b[39m\u001b[38;5;241m7\u001b[39m, color\u001b[38;5;241m=\u001b[39m\u001b[38;5;124m\"\u001b[39m\u001b[38;5;124mred\u001b[39m\u001b[38;5;124m\"\u001b[39m)\n",
      "File \u001b[1;32m~\\AppData\\Roaming\\Python\\Python310\\site-packages\\matplotlib\\__init__.py:1459\u001b[0m, in \u001b[0;36m_preprocess_data.<locals>.inner\u001b[1;34m(ax, data, *args, **kwargs)\u001b[0m\n\u001b[0;32m   1456\u001b[0m \u001b[38;5;129m@functools\u001b[39m\u001b[38;5;241m.\u001b[39mwraps(func)\n\u001b[0;32m   1457\u001b[0m \u001b[38;5;28;01mdef\u001b[39;00m \u001b[38;5;21minner\u001b[39m(ax, \u001b[38;5;241m*\u001b[39margs, data\u001b[38;5;241m=\u001b[39m\u001b[38;5;28;01mNone\u001b[39;00m, \u001b[38;5;241m*\u001b[39m\u001b[38;5;241m*\u001b[39mkwargs):\n\u001b[0;32m   1458\u001b[0m     \u001b[38;5;28;01mif\u001b[39;00m data \u001b[38;5;129;01mis\u001b[39;00m \u001b[38;5;28;01mNone\u001b[39;00m:\n\u001b[1;32m-> 1459\u001b[0m         \u001b[38;5;28;01mreturn\u001b[39;00m func(ax, \u001b[38;5;241m*\u001b[39m\u001b[38;5;28mmap\u001b[39m(sanitize_sequence, args), \u001b[38;5;241m*\u001b[39m\u001b[38;5;241m*\u001b[39mkwargs)\n\u001b[0;32m   1461\u001b[0m     bound \u001b[38;5;241m=\u001b[39m new_sig\u001b[38;5;241m.\u001b[39mbind(ax, \u001b[38;5;241m*\u001b[39margs, \u001b[38;5;241m*\u001b[39m\u001b[38;5;241m*\u001b[39mkwargs)\n\u001b[0;32m   1462\u001b[0m     auto_label \u001b[38;5;241m=\u001b[39m (bound\u001b[38;5;241m.\u001b[39marguments\u001b[38;5;241m.\u001b[39mget(label_namer)\n\u001b[0;32m   1463\u001b[0m                   \u001b[38;5;129;01mor\u001b[39;00m bound\u001b[38;5;241m.\u001b[39mkwargs\u001b[38;5;241m.\u001b[39mget(label_namer))\n",
      "\u001b[1;31mTypeError\u001b[0m: Axes.scatter() takes from 3 to 12 positional arguments but 41 were given"
     ]
    },
    {
     "data": {
      "image/png": "[encoded data removed]",
      "text/plain": [
       "<Figure size 1512x504 with 3 Axes>"
      ]
     },
     "metadata": {
      "needs_background": "light"
     },
     "output_type": "display_data"
    }
   ],
   "source": [
    "# Plot both embeddings in two different figures,\n",
    "# and then on the same figure using different colors.\n",
    "\n",
    "def add_axis_lines(ax): ax.axvline(x=0, c=\"gray\", linewidth=1, zorder=-1); ax.axhline(y=0, c=\"gray\", linewidth=1, zorder=-1)\n",
    "\n",
    "fig, (ax1, ax2, ax3) = plt.subplots(1, 3, figsize=(21, 7))\n",
    "add_axis_lines(ax3)\n",
    "add_axis_lines(ax2)\n",
    "add_axis_lines(ax1)\n",
    "\n",
    "ax1.scatter(*laplacian_eigenmap_embedding,color=\"blue\")\n",
    "ax1.set_title(\"Laplacian Eigenmap Embedding\")\n",
    "\n",
    "ax2.scatter(*lle_embedding, s=7, color=\"red\")\n",
    "ax2.set_title(\"LLE with Non-Negativity Embedding\")\n",
    "\n",
    "ax3.scatter(*laplacian_eigenmap_embedding, s=7, color=\"blue\", label=\"Laplacian\")\n",
    "ax3.scatter(*lle_embedding, s=7, color=\"red\", label=\"LLE\")\n",
    "ax3.set_title(\"Both Embeddings\")\n",
    "ax3.legend()"
   ]
  }
 ],
 "metadata": {
  "kernelspec": {
   "display_name": "Python 3 (ipykernel)",
   "language": "python",
   "name": "python3"
  },
  "language_info": {
   "codemirror_mode": {
    "name": "ipython",
    "version": 3
   },
   "file_extension": ".py",
   "mimetype": "text/x-python",
   "name": "python",
   "nbconvert_exporter": "python",
   "pygments_lexer": "ipython3",
   "version": "3.10.4"
  }
 },
 "nbformat": 4,
 "nbformat_minor": 5
}
