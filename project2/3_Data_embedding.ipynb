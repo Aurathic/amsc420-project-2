{
 "cells": [
  {
   "cell_type": "markdown",
   "id": "95d114c3-34b0-4703-83e8-c496437fc395",
   "metadata": {},
   "source": [
    "# III. Data Emedding"
   ]
  },
  {
   "cell_type": "code",
   "execution_count": 1,
   "id": "bb2a271e-0f08-4587-ae85-543e7a1ee8e2",
   "metadata": {},
   "outputs": [],
   "source": [
    "import numpy as np\n",
    "import networkx as nx\n",
    "import matplotlib.pyplot as plt\n",
    "\n",
    "import logging\n",
    "logging.captureWarnings(True) # Logging warnings in order to suppress them"
   ]
  },
  {
   "cell_type": "code",
   "execution_count": null,
   "id": "adac31d3-c726-4911-bd6f-cbc62423e1b6",
   "metadata": {},
   "outputs": [],
   "source": [
    "# For this task use the weight matrix W.\n",
    "W = nx.Graph(np.genfromtxt(\"data/sgb128Nodes41to80_weight20.txt\", delimiter=' ', skip_header=1))"
   ]
  }
 ],
 "metadata": {
  "kernelspec": {
   "display_name": "Python 3 (ipykernel)",
   "language": "python",
   "name": "python3"
  },
  "language_info": {
   "codemirror_mode": {
    "name": "ipython",
    "version": 3
   },
   "file_extension": ".py",
   "mimetype": "text/x-python",
   "name": "python",
   "nbconvert_exporter": "python",
   "pygments_lexer": "ipython3",
   "version": "3.10.4"
  }
 },
 "nbformat": 4,
 "nbformat_minor": 5
}
