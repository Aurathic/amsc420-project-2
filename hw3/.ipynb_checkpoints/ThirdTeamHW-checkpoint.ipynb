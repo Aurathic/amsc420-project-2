{
 "cells": [
  {
   "cell_type": "markdown",
   "id": "cf097262-ac4f-4d96-ac6a-c1275b120173",
   "metadata": {},
   "source": [
    "# Third Team Homework"
   ]
  },
  {
   "cell_type": "code",
   "execution_count": 2,
   "id": "e892610e-5600-4051-9106-d9d82574dc1f",
   "metadata": {},
   "outputs": [],
   "source": [
    "import numpy as np\n",
    "import networkx as nx\n",
    "import matplotlib.pyplot as plt\n",
    "\n",
    "import logging\n",
    "logging.captureWarnings(True) # Logging warnings in order to suppress them"
   ]
  },
  {
   "cell_type": "code",
   "execution_count": 3,
   "id": "ebff83d6-8885-4ca4-8c66-5066ccf0ee1a",
   "metadata": {},
   "outputs": [],
   "source": [
    "file_location = \"../kn57Nodes1to57_adj20.txt\" \n",
    "adj_matrix = np.genfromtxt(file_location, delimiter=' ', skip_header = 1)\n",
    "graph = nx.Graph(adj_matrix)"
   ]
  },
  {
   "cell_type": "code",
   "execution_count": 4,
   "id": "bc938008-5067-4ff2-ac6b-7c7fe145547e",
   "metadata": {},
   "outputs": [
    {
     "data": {
      "text/plain": [
       "True"
      ]
     },
     "execution_count": 4,
     "metadata": {},
     "output_type": "execute_result"
    }
   ],
   "source": [
    "nx.is_connected(graph)"
   ]
  },
  {
   "cell_type": "markdown",
   "id": "5fa19156-940a-40ef-bcb2-03e88ab81b51",
   "metadata": {},
   "source": [
    "Since the graph is connected, in the algorithms below I will assume that the input graph is connected."
   ]
  },
  {
   "cell_type": "markdown",
   "id": "f22bc271-3dcc-473e-91de-58a4941970bf",
   "metadata": {},
   "source": [
    "## Exercise 1"
   ]
  },
  {
   "cell_type": "markdown",
   "id": "36007443-a329-4a04-8a45-aec7d1a4f2b9",
   "metadata": {},
   "source": [
    "### Question 1"
   ]
  },
  {
   "cell_type": "code",
   "execution_count": 5,
   "id": "adc0d83d-aa2d-4f2e-9747-90ac26f0d2ec",
   "metadata": {},
   "outputs": [],
   "source": [
    "def spectral_algorithm_normalized_laplacian(G):\n",
    "    # (1) Compute the symmetric normalized graph Laplacian\n",
    "    # ∆ = I − D−1/2AD−1/2, with D = Diag(A · 1) the degree matrix.\n",
    "    normalized_laplacian = nx.normalized_laplacian_matrix(G).todense()\n",
    "    # (2) Compute the second smallest eigenpair: (e1, λ1), with  ̃∆e1 = λ1e1\n",
    "    # and λ1 > 0 = λ0.\n",
    "    eigenvalues, eigenvectors = np.linalg.eig(normalized_laplacian)\n",
    "    sorted_eigenvectors = eigenvectors[eigenvalues.argsort()]\n",
    "    e1 = sorted_eigenvectors[1]\n",
    "    # (3) Define the partition Ω1 = {k : e1(k) > 0}, Ω2 = {k : e1(k) ≤ 0}. Set\n",
    "    # d = 2\n",
    "    omega1 = {k for k, g in zip(G.nodes,e1) if g > 0}\n",
    "    omega2 = {k for k, g in zip(G.nodes,e1) if g <= 0}\n",
    "    return omega1, omega2    "
   ]
  },
  {
   "cell_type": "code",
   "execution_count": 6,
   "id": "77db5834-0b18-4339-b35f-8b28f521b0b7",
   "metadata": {},
   "outputs": [
    {
     "name": "stdout",
     "output_type": "stream",
     "text": [
      "{1, 2, 9, 14, 15, 16, 17, 18, 20, 22, 23, 25, 28, 29, 30, 31, 32, 33, 35, 38, 39, 40, 45, 48, 50, 51, 53, 54}\n",
      "{0, 3, 4, 5, 6, 7, 8, 10, 11, 12, 13, 19, 21, 24, 26, 27, 34, 36, 37, 41, 42, 43, 44, 46, 47, 49, 52, 55, 56}\n"
     ]
    }
   ],
   "source": [
    "print(*spectral_algorithm_normalized_laplacian(graph),sep=\"\\n\")"
   ]
  },
  {
   "cell_type": "markdown",
   "id": "05fd567f-ba9b-45cf-9577-78aee34947b8",
   "metadata": {},
   "source": [
    "### Question 2"
   ]
  },
  {
   "cell_type": "code",
   "execution_count": 7,
   "id": "ee171143-4218-417d-a744-bcfc393c7c55",
   "metadata": {},
   "outputs": [],
   "source": [
    "def spectral_algorithm_laplacian(G):\n",
    "    # (1) Compute the graph Laplacian ∆ = D − A, with D = Diag(A · 1), the\n",
    "    # degree matrix.\n",
    "    laplacian = nx.laplacian_matrix(G).todense()\n",
    "    # (2) Compute the second smallest eigenpair: (e1, λ1), with ∆e1 = λ1e1\n",
    "    # and λ1 > 0 = λ0.\n",
    "    eigenvalues, eigenvectors = np.linalg.eig(laplacian)\n",
    "    sorted_eigenvectors = eigenvectors[eigenvalues.argsort()]\n",
    "    e1 = sorted_eigenvectors[1]\n",
    "    # (3) Define the partition Ω1 = {k : e1(k) > 0}, Ω2 = {k : e1(k) ≤ 0}. Set\n",
    "    # d = 2.\n",
    "    omega1 = {k for k, g in zip(G.nodes,e1) if g > 0}\n",
    "    omega2 = {k for k, g in zip(G.nodes,e1) if g <= 0}\n",
    "    return omega1, omega2    "
   ]
  },
  {
   "cell_type": "code",
   "execution_count": 8,
   "id": "49b08625-2e00-4a13-acee-508e750513db",
   "metadata": {},
   "outputs": [
    {
     "name": "stdout",
     "output_type": "stream",
     "text": [
      "{2, 7, 10, 12, 13, 15, 16, 18, 21, 24, 26, 27, 28, 29, 30, 31, 32, 34, 35, 36, 39, 46, 47, 48, 50, 51, 53, 54, 55, 56}\n",
      "{0, 1, 3, 4, 5, 6, 8, 9, 11, 14, 17, 19, 20, 22, 23, 25, 33, 37, 38, 40, 41, 42, 43, 44, 45, 49, 52}\n"
     ]
    }
   ],
   "source": [
    "print(*spectral_algorithm_laplacian(graph),sep=\"\\n\")"
   ]
  },
  {
   "cell_type": "markdown",
   "id": "06df3775-a653-41e9-9cb8-010a2a559b5a",
   "metadata": {},
   "source": [
    "### Question 3"
   ]
  },
  {
   "cell_type": "code",
   "execution_count": 9,
   "id": "ac3e2b5a-d24c-44d7-a956-53663ad8a8f4",
   "metadata": {},
   "outputs": [],
   "source": [
    "def spectral_algorithm_weight(G):\n",
    "    weight = nx.adjacency_matrix(G).todense()\n",
    "    # (1) Compute the second largest eigenpair of A: (f2, μ2), with Af2 = μ2f1.\n",
    "    eigenvalues, eigenvectors = np.linalg.eig(weight)\n",
    "    sorted_eigenvectors = eigenvectors[eigenvalues.argsort()]\n",
    "    f2 = sorted_eigenvectors[-1]\n",
    "    # (2) Define the partition Ω1 = {k : f2(k) > 0}, Ω2 = {k : f2(k) ≤ 0}. Set\n",
    "    # d = 2.\n",
    "    omega1 = {k for k, g in zip(G.nodes,f2) if g > 0}\n",
    "    omega2 = {k for k, g in zip(G.nodes,f2) if g <= 0}\n",
    "    return omega1, omega2    "
   ]
  },
  {
   "cell_type": "code",
   "execution_count": 10,
   "id": "cead87e8-a807-4e30-8c8c-6d2daba25514",
   "metadata": {},
   "outputs": [
    {
     "name": "stdout",
     "output_type": "stream",
     "text": [
      "{2, 4, 5, 7, 10, 12, 13, 15, 18, 19, 20, 26, 28, 29, 31, 32, 40, 41, 43, 44, 45, 50, 51, 52, 53, 54, 56}\n",
      "{0, 1, 3, 6, 8, 9, 11, 14, 16, 17, 21, 22, 23, 24, 25, 27, 30, 33, 34, 35, 36, 37, 38, 39, 42, 46, 47, 48, 49, 55}\n"
     ]
    }
   ],
   "source": [
    "print(*spectral_algorithm_weight(graph),sep=\"\\n\")"
   ]
  },
  {
   "cell_type": "markdown",
   "id": "cee60d8c-e306-4dea-8f62-392356cd8d31",
   "metadata": {},
   "source": [
    "## Exercise 2"
   ]
  },
  {
   "cell_type": "markdown",
   "id": "bfcc1ff0-9b9f-4ae1-90af-5c81dfd81831",
   "metadata": {},
   "source": [
    "### Question 1"
   ]
  },
  {
   "cell_type": "code",
   "execution_count": 25,
   "id": "398570f6-c370-4536-b64f-a92d5b31426e",
   "metadata": {},
   "outputs": [],
   "source": [
    "from scipy.linalg import fractional_matrix_power\n",
    "\n",
    "# Laplacian Eigenmap data embedding for target dimension d = 2\n",
    "def laplacian_eigenmap(G, d):\n",
    "    # Input: Weight matrix W , target dimension d\n",
    "    weight = nx.adjacency_matrix(G).todense()\n",
    "    # (1) Construct the diagonal matrix D = diag(Dii )1≤i≤n, where\n",
    "    # Dii = ∑_{k=1}^N Wi,k\n",
    "    diagonal = np.diag(np.sum(weight,axis=1))\n",
    "    #print(diagonal, diagonal.shape, sep=\"\\n\")\n",
    "    # (2) Construct the normalized Laplacian  ̃∆ = I − D−1/2WD−1/2.\n",
    "    normalized_laplacian = nx.normalized_laplacian_matrix(G).todense()\n",
    "    # (3) Compute the bottom d + 1 eigenvectors e1, · · · , ed+1,  ̃∆ek = λk ek ,\n",
    "    # 0 = λ1 ≤ · · · ≤ λd+1.\n",
    "    eigenvalues, eigenvectors = np.linalg.eig(weight)\n",
    "    sorted_eigenvectors = eigenvectors[eigenvalues.argsort()]\n",
    "    bottom_eigenvectors = sorted_eigenvectors[1:d+1]\n",
    "    #print(bottom_eigenvectors, bottom_eigenvectors.shape, sep=\"\\n\")\n",
    "    # (4) Construct the d × n matrix Y:\n",
    "    # Y = [e2^T, ..., ed+1^T]^T * D−1/2\n",
    "    #print(fractional_matrix_power(diagonal,-1/2))\n",
    "    Y = bottom_eigenvectors @ fractional_matrix_power(diagonal,-1/2)\n",
    "    # (5) The new geometric graph is obtained by converting the columns of Y\n",
    "    # into n d-dimensional vectors:\n",
    "    # [y1 | · · · | yn] = Y\n",
    "    return Y"
   ]
  },
  {
   "cell_type": "code",
   "execution_count": 26,
   "id": "505612a3-3dd0-4162-afaf-eaf3c9c5ced3",
   "metadata": {},
   "outputs": [
    {
     "name": "stdout",
     "output_type": "stream",
     "text": [
      "[[-1.12599047e-02 -2.15910342e-02]\n",
      " [-3.27488846e-02 -2.92721049e-02]\n",
      " [ 2.22429994e-02  2.44255624e-02]\n",
      " [ 3.49987674e-03 -3.47225796e-03]\n",
      " [-4.51329650e-03 -1.95043033e-02]\n",
      " [-8.22316376e-02  1.93752228e-02]\n",
      " [-1.56497573e-02  3.49513417e-02]\n",
      " [ 1.72236397e-02  8.09014180e-05]\n",
      " [ 1.18906175e-02  5.78695885e-03]\n",
      " [ 3.21866931e-02  1.16106931e-02]\n",
      " [ 5.58814077e-02 -8.79114111e-03]\n",
      " [-6.94973036e-03 -1.97632765e-02]\n",
      " [-3.04449576e-03  2.40977815e-03]\n",
      " [ 3.71272278e-04  4.87455535e-02]\n",
      " [-2.90039838e-02  2.75288419e-02]\n",
      " [ 6.89024714e-03 -2.92996839e-02]\n",
      " [ 5.34611495e-02 -3.56280619e-02]\n",
      " [-1.28930370e-02  2.07849200e-02]\n",
      " [ 2.52231122e-02 -5.21711574e-03]\n",
      " [ 1.40133184e-04 -1.48202033e-01]\n",
      " [ 8.64698666e-03 -9.48100763e-02]\n",
      " [ 2.08578689e-02  1.93541120e-02]\n",
      " [-1.15411286e-02 -4.83353769e-03]\n",
      " [ 2.55421836e-02  4.87672642e-02]\n",
      " [-1.28471033e-02 -8.42377824e-04]\n",
      " [-5.69251740e-02 -4.40078735e-02]\n",
      " [ 8.89271242e-03 -2.18163230e-02]\n",
      " [ 1.71363849e-04  1.48292606e-02]\n",
      " [-7.45593483e-02 -4.60926085e-02]\n",
      " [-2.25283707e-02  2.13197395e-02]\n",
      " [ 9.47816831e-03  1.32552424e-02]\n",
      " [-2.11518572e-02 -1.71252616e-02]\n",
      " [ 1.33909590e-02 -2.66281567e-02]\n",
      " [ 2.45947036e-03  5.83056084e-03]\n",
      " [ 1.98089059e-02 -1.05653305e-02]\n",
      " [ 2.95066342e-02  1.81535032e-02]\n",
      " [ 3.85371628e-02  1.53802142e-02]\n",
      " [-2.40415591e-03 -1.66935489e-02]\n",
      " [ 1.32683503e-02 -5.67092229e-02]\n",
      " [ 7.49487883e-02  1.64692209e-02]\n",
      " [ 2.41150728e-02  3.29877421e-03]\n",
      " [ 3.88416833e-02 -2.66968732e-02]\n",
      " [ 4.00551578e-02  1.14955401e-02]\n",
      " [ 1.08411638e-02  4.82981278e-04]\n",
      " [-1.50370868e-03  1.41181088e-02]\n",
      " [-3.39936160e-02  9.11417738e-03]\n",
      " [ 8.87827236e-02  7.62498609e-03]\n",
      " [ 8.24995400e-02  2.62599110e-02]\n",
      " [-3.21534703e-16  2.90791989e-16]\n",
      " [ 1.97739035e-16  3.45129442e-17]\n",
      " [ 2.95739422e-17 -1.54754483e-17]\n",
      " [ 1.03396882e-16  1.20312321e-17]\n",
      " [ 7.51401409e-17 -2.48655210e-19]\n",
      " [-2.45800084e-17 -2.97853885e-17]\n",
      " [ 1.10871976e-17 -2.41423136e-17]\n",
      " [-9.55801509e-17 -6.82240449e-18]\n",
      " [ 2.72683561e-17  1.86398182e-17]]\n"
     ]
    }
   ],
   "source": [
    "laplacian_eigenmap_embedding = laplacian_eigenmap(graph,2).T\n",
    "print(laplacian_eigenmap_embedding)"
   ]
  },
  {
   "cell_type": "markdown",
   "id": "95ff9dae-d623-4a6f-9f89-45c2ab49c410",
   "metadata": {},
   "source": [
    "# Exercise 2"
   ]
  },
  {
   "cell_type": "code",
   "execution_count": 27,
   "id": "91fa287a-3008-4eaa-8b7a-9cd878130006",
   "metadata": {},
   "outputs": [
    {
     "name": "stdout",
     "output_type": "stream",
     "text": [
      "[[-1.12599047e-02 -3.27488846e-02  2.22429994e-02  3.49987674e-03\n",
      "  -4.51329650e-03 -8.22316376e-02 -1.56497573e-02  1.72236397e-02\n",
      "   1.18906175e-02  3.21866931e-02  5.58814077e-02 -6.94973036e-03\n",
      "  -3.04449576e-03  3.71272278e-04 -2.90039838e-02  6.89024714e-03\n",
      "   5.34611495e-02 -1.28930370e-02  2.52231122e-02  1.40133184e-04\n",
      "   8.64698666e-03  2.08578689e-02 -1.15411286e-02  2.55421836e-02\n",
      "  -1.28471033e-02 -5.69251740e-02  8.89271242e-03  1.71363849e-04\n",
      "  -7.45593483e-02 -2.25283707e-02  9.47816831e-03 -2.11518572e-02\n",
      "   1.33909590e-02  2.45947036e-03  1.98089059e-02  2.95066342e-02\n",
      "   3.85371628e-02 -2.40415591e-03  1.32683503e-02  7.49487883e-02\n",
      "   2.41150728e-02  3.88416833e-02  4.00551578e-02  1.08411638e-02\n",
      "  -1.50370868e-03 -3.39936160e-02  8.87827236e-02  8.24995400e-02\n",
      "  -3.21534703e-16  1.97739035e-16  2.95739422e-17  1.03396882e-16\n",
      "   7.51401409e-17 -2.45800084e-17  1.10871976e-17 -9.55801509e-17\n",
      "   2.72683561e-17]\n",
      " [-2.15910342e-02 -2.92721049e-02  2.44255624e-02 -3.47225796e-03\n",
      "  -1.95043033e-02  1.93752228e-02  3.49513417e-02  8.09014180e-05\n",
      "   5.78695885e-03  1.16106931e-02 -8.79114111e-03 -1.97632765e-02\n",
      "   2.40977815e-03  4.87455535e-02  2.75288419e-02 -2.92996839e-02\n",
      "  -3.56280619e-02  2.07849200e-02 -5.21711574e-03 -1.48202033e-01\n",
      "  -9.48100763e-02  1.93541120e-02 -4.83353769e-03  4.87672642e-02\n",
      "  -8.42377824e-04 -4.40078735e-02 -2.18163230e-02  1.48292606e-02\n",
      "  -4.60926085e-02  2.13197395e-02  1.32552424e-02 -1.71252616e-02\n",
      "  -2.66281567e-02  5.83056084e-03 -1.05653305e-02  1.81535032e-02\n",
      "   1.53802142e-02 -1.66935489e-02 -5.67092229e-02  1.64692209e-02\n",
      "   3.29877421e-03 -2.66968732e-02  1.14955401e-02  4.82981278e-04\n",
      "   1.41181088e-02  9.11417738e-03  7.62498609e-03  2.62599110e-02\n",
      "   2.90791989e-16  3.45129442e-17 -1.54754483e-17  1.20312321e-17\n",
      "  -2.48655210e-19 -2.97853885e-17 -2.41423136e-17 -6.82240449e-18\n",
      "   1.86398182e-17]]\n",
      "(2, 57)\n"
     ]
    }
   ],
   "source": [
    "laplacian_eigenmap_embedding = laplacian_eigenmap(graph,d=2)\n",
    "print(laplacian_eigenmap_embedding,laplacian_eigenmap_embedding.shape, sep=\"\\n\")"
   ]
  },
  {
   "cell_type": "markdown",
   "id": "980341cd-e5a6-4eda-8169-c7e27e2e542c",
   "metadata": {},
   "source": [
    "### Part a"
   ]
  },
  {
   "cell_type": "code",
   "execution_count": 28,
   "id": "f7edb1f2-69d1-4b84-a1c9-10ab6addf531",
   "metadata": {},
   "outputs": [
    {
     "name": "stdout",
     "output_type": "stream",
     "text": [
      "(57, 10)\n"
     ]
    }
   ],
   "source": [
    "laplacian_eigenmap_graph = laplacian_eigenmap(graph,d=10).T\n",
    "print(laplacian_eigenmap_graph.shape, sep=\"\\n\")\n",
    "#print(laplacian_eigenmap_graph,laplacian_eigenmap_graph.shape, sep=\"\\n\")"
   ]
  },
  {
   "cell_type": "markdown",
   "id": "d1733013-abf6-4c16-8519-b5f1215b97ec",
   "metadata": {},
   "source": [
    "### Part b"
   ]
  },
  {
   "cell_type": "code",
   "execution_count": 29,
   "id": "fa5f0606-405d-40a0-b08d-fc11e6f3de97",
   "metadata": {},
   "outputs": [],
   "source": [
    "from sklearn.neighbors import NearestNeighbors\n",
    "from scipy.optimize import minimize\n",
    "\n",
    "def dimension_reduction_lle_non_negativity_constraints(X, K, d):\n",
    "    # Input: A geometric graph {x1, x2, · · · , xn} ⊂ RN . Parameters:\n",
    "    # neighborhood size K and dimension d.\n",
    "    n = X.shape[0]\n",
    "    \n",
    "    # (1) Finding the weight matrix B: \n",
    "    B = np.zeros((n, n))\n",
    "   \n",
    "    # (Precomputing nearest neighbors for each point)\n",
    "    nn = NearestNeighbors(n_neighbors=K+1)\n",
    "    nn.fit(X)\n",
    "    _, indices = nn.kneighbors(X)\n",
    "    V = indices[:, 1:] # the closest neighbor is itself, so remove it\n",
    "    #print(indices)\n",
    "    \n",
    "    # For each point i do the following:\n",
    "    for i in range(n):\n",
    "        # (1) Find its closest K neighbors, say Vi; \n",
    "        # Let r : Vi → {1, 2, · · · , K } denote an indexing map;\n",
    "        closest_k_neighbors = X[V[i]]\n",
    "        # (2) Compute the K × K local covariance matrix C,\n",
    "        # Cr(j),r(k) = 〈xj − xi , xk − xi.\n",
    "        closest_k_neighbors_diffs = closest_k_neighbors - X[i]\n",
    "        #C = np.cov(closest_k_neighbors_diffs)\n",
    "        C = closest_k_neighbors_diffs @ closest_k_neighbors_diffs.T\n",
    "        #print(C.shape)\n",
    "        \n",
    "        # (3) Solve for u, minimize u^T C u subject to u ≥ 0 , u^T · 1 = 1\n",
    "        # where 1 denotes the K -vector of 1’s.\n",
    "        objective = lambda u: u.dot(C.dot(u)) \n",
    "        constraints = (\n",
    "            {'type': 'eq', 'fun': lambda u: u.dot(np.ones(K)) - 1},\n",
    "            {'type': 'ineq', 'fun': lambda u: u})\n",
    "        # TODO: Check if 'ineq' means greater than or less than zero\n",
    "        u0 = np.ones(K)\n",
    "        result = minimize(objective, u0, method='SLSQP', constraints=constraints)\n",
    "        u = result.x\n",
    "        \n",
    "        # (4) Set Bi,j = ur(j) for j ∈ Vi.\n",
    "        B[i, V[i]] = u\n",
    "    assert B.shape == (n, n)\n",
    "    #print(B)\n",
    "        \n",
    "    # (2) Solving the Eigen Problem:\n",
    "    # (1) Create the (typically sparse) matrix L = (I − B)^T (I − B);\n",
    "    L = (np.eye(n) - B).T @ (np.eye(n) - B)\n",
    "    #print(L)\n",
    "    # (2) Find the bottom d + 1 eigenvectors of L (the bottom eigenvector\n",
    "    # would be [1, · · · , 1]^T associated to eigenvalue 0) {e1, e2, · · · , ed+1};\n",
    "    eigenvalues, eigenvectors = np.linalg.eig(L)\n",
    "    sorted_eigenvectors = eigenvectors[eigenvalues.argsort()]\n",
    "    # (3) Discard the last vector (the constant eigenvector) and insert all other\n",
    "    # eigenvectors as rows into matrix Y:\n",
    "    # Y = [e2^T, ..., ed+1^T]^T * D−1/2\n",
    "    Y = sorted_eigenvectors[1:d+1]\n",
    "    # Output: {y1, · · · , yn} ⊂ Rd as columns from\n",
    "    # [ y1 | · · · | yn ] = Y\n",
    "    assert Y.shape == (d, n)\n",
    "    return Y"
   ]
  },
  {
   "cell_type": "code",
   "execution_count": 30,
   "id": "ab28283e-062c-449e-baf1-46e98c66c4f2",
   "metadata": {},
   "outputs": [
    {
     "name": "stdout",
     "output_type": "stream",
     "text": [
      "(4, 4)\n",
      "(4, 4)\n",
      "(4, 4)\n",
      "(4, 4)\n",
      "(4, 4)\n",
      "(4, 4)\n",
      "(4, 4)\n",
      "(4, 4)\n",
      "(4, 4)\n",
      "(4, 4)\n",
      "(4, 4)\n",
      "(4, 4)\n",
      "(4, 4)\n",
      "(4, 4)\n",
      "(4, 4)\n",
      "(4, 4)\n",
      "(4, 4)\n",
      "(4, 4)\n",
      "(4, 4)\n",
      "(4, 4)\n",
      "(4, 4)\n",
      "(4, 4)\n",
      "(4, 4)\n",
      "(4, 4)\n",
      "(4, 4)\n",
      "(4, 4)\n",
      "(4, 4)\n",
      "(4, 4)\n",
      "(4, 4)\n",
      "(4, 4)\n",
      "(4, 4)\n",
      "(4, 4)\n",
      "(4, 4)\n",
      "(4, 4)\n",
      "(4, 4)\n",
      "(4, 4)\n",
      "(4, 4)\n",
      "(4, 4)\n",
      "(4, 4)\n",
      "(4, 4)\n",
      "(4, 4)\n",
      "(4, 4)\n",
      "(4, 4)\n",
      "(4, 4)\n",
      "(4, 4)\n",
      "(4, 4)\n",
      "(4, 4)\n",
      "(4, 4)\n",
      "(4, 4)\n",
      "(4, 4)\n",
      "(4, 4)\n",
      "(4, 4)\n",
      "(4, 4)\n",
      "(4, 4)\n",
      "(4, 4)\n",
      "(4, 4)\n",
      "(4, 4)\n",
      "[[-5.29663513e-02 -4.50457611e-02 -5.11120932e-02 -1.62872870e-02\n",
      "   1.55826333e-02  6.14856161e-02 -9.78143972e-02 -1.17098649e-02\n",
      "  -1.07654298e-02  5.40989764e-02  8.08666426e-02 -3.84524619e-03\n",
      "  -1.63409687e-01  4.74677153e-02  3.47616957e-02  7.94200693e-02\n",
      "   6.22777447e-02 -8.23443000e-02  3.34933319e-02 -9.90298855e-02\n",
      "  -8.34386612e-02 -1.32453236e-01 -1.68680773e-01  2.29581359e-02\n",
      "  -4.91029857e-05 -2.93630473e-02 -3.11906216e-03  6.96170126e-02\n",
      "  -3.93145605e-02  1.97846473e-01 -1.17769632e-02  1.01184688e-01\n",
      "   1.74669403e-01 -2.15166207e-01  2.34375341e-01 -1.86078620e-01\n",
      "  -5.08011091e-01 -6.77474395e-02  5.27965535e-03  1.64058560e-01\n",
      "   1.07644698e-01 -2.08473234e-02  5.38058016e-02  7.19445012e-02\n",
      "   3.19294289e-02  1.12113892e-01 -4.08224060e-02 -2.67393119e-01\n",
      "   2.01776719e-01 -2.21820264e-01  1.14995231e-01  2.74071339e-01\n",
      "  -1.96332619e-01  1.21019194e-01 -5.38002322e-02 -4.93718937e-02\n",
      "  -3.21369700e-02]\n",
      " [-1.32130046e-02 -2.19452536e-02 -2.81735692e-02 -1.62262238e-02\n",
      "  -5.63076390e-03 -1.57186039e-02 -4.65708783e-02  7.32486412e-03\n",
      "   2.34754395e-02 -3.51568189e-03 -3.05024954e-02 -4.16337294e-02\n",
      "   3.55084619e-02 -1.94604653e-02 -2.82912951e-02  1.27509642e-02\n",
      "   8.42990546e-02 -6.68980115e-02  1.38601763e-01  5.64861814e-02\n",
      "  -1.52440213e-02 -1.32453236e-01 -9.83653281e-02 -1.94178769e-02\n",
      "   8.22726728e-02  1.23756187e-01 -1.60988589e-02  1.99721963e-02\n",
      "   9.43933229e-03  3.03646681e-02 -1.09462043e-01 -2.83691935e-01\n",
      "   3.70301135e-02  1.13735639e-02  2.50224679e-01  2.31879032e-01\n",
      "  -3.95212541e-02 -1.65769190e-01 -1.22777191e-01  1.10327705e-01\n",
      "  -1.14230069e-01  1.28288056e-01 -2.29172962e-01 -1.03550207e-01\n",
      "  -8.50676623e-02 -5.15351549e-01  2.50461785e-01 -2.34489123e-01\n",
      "  -7.78119823e-02  2.36156111e-01 -7.13335823e-02  4.36902491e-02\n",
      "  -2.27296935e-01 -1.71986416e-01  4.72964176e-02 -1.59550439e-02\n",
      "   4.37371457e-02]]\n",
      "(2, 57)\n"
     ]
    }
   ],
   "source": [
    "lle_embedding = dimension_reduction_lle_non_negativity_constraints(laplacian_eigenmap_graph, K=4, d=2)\n",
    "print(lle_embedding, lle_embedding.shape, sep=\"\\n\")"
   ]
  },
  {
   "cell_type": "markdown",
   "id": "31297ba4-b7f1-47ad-8f14-d5b66647e609",
   "metadata": {},
   "source": [
    "### Plotting"
   ]
  },
  {
   "cell_type": "code",
   "execution_count": 16,
   "id": "d4fa18c9-f406-4c14-8aba-92ce32a2f490",
   "metadata": {},
   "outputs": [
    {
     "data": {
      "text/plain": [
       "<matplotlib.legend.Legend at 0x2323239d4b0>"
      ]
     },
     "execution_count": 16,
     "metadata": {},
     "output_type": "execute_result"
    },
    {
     "data": {
      "image/png": "[encoded data removed]",
      "text/plain": [
       "<Figure size 1512x504 with 3 Axes>"
      ]
     },
     "metadata": {
      "needs_background": "light"
     },
     "output_type": "display_data"
    }
   ],
   "source": [
    "# Plot both embeddings in two different figures,\n",
    "# and then on the same figure using different colors.\n",
    "def add_axis_lines(ax): ax.axvline(x=0, c=\"gray\", linewidth=1, zorder=-1); ax.axhline(y=0, c=\"gray\", linewidth=1, zorder=-1)\n",
    "\n",
    "fig, (ax1, ax2, ax3) = plt.subplots(1, 3, figsize=(21, 7))\n",
    "add_axis_lines(ax3)\n",
    "add_axis_lines(ax2)\n",
    "add_axis_lines(ax1)\n",
    "\n",
    "ax1.scatter(*laplacian_eigenmap_embedding, s=7, color=\"blue\")\n",
    "ax1.set_title(\"Laplacian Eigenmap Embedding\")\n",
    "\n",
    "ax2.scatter(*lle_embedding, s=7, color=\"red\")\n",
    "ax2.set_title(\"LLE with Non-Negativity Embedding\")\n",
    "\n",
    "ax3.scatter(*laplacian_eigenmap_embedding, s=7, color=\"blue\", label=\"Laplacian\")\n",
    "ax3.scatter(*lle_embedding, s=7, color=\"red\", label=\"LLE\")\n",
    "ax3.set_title(\"Both Embeddings\")\n",
    "ax3.legend()"
   ]
  }
 ],
 "metadata": {
  "kernelspec": {
   "display_name": "Python 3 (ipykernel)",
   "language": "python",
   "name": "python3"
  },
  "language_info": {
   "codemirror_mode": {
    "name": "ipython",
    "version": 3
   },
   "file_extension": ".py",
   "mimetype": "text/x-python",
   "name": "python",
   "nbconvert_exporter": "python",
   "pygments_lexer": "ipython3",
   "version": "3.10.4"
  }
 },
 "nbformat": 4,
 "nbformat_minor": 5
}
