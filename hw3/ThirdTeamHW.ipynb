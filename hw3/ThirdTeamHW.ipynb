{
 "cells": [
  {
   "cell_type": "markdown",
   "id": "cf097262-ac4f-4d96-ac6a-c1275b120173",
   "metadata": {},
   "source": [
    "# Third Team Homework"
   ]
  },
  {
   "cell_type": "code",
   "execution_count": 1,
   "id": "e892610e-5600-4051-9106-d9d82574dc1f",
   "metadata": {},
   "outputs": [],
   "source": [
    "import numpy as np\n",
    "import networkx as nx\n",
    "import matplotlib.pyplot as plt\n",
    "\n",
    "import logging\n",
    "logging.captureWarnings(True) # Logging warnings in order to suppress them"
   ]
  },
  {
   "cell_type": "code",
   "execution_count": 2,
   "id": "ebff83d6-8885-4ca4-8c66-5066ccf0ee1a",
   "metadata": {},
   "outputs": [],
   "source": [
    "file_location = \"../kn57Nodes1to57_adj20.txt\" \n",
    "adj_matrix = np.genfromtxt(file_location, delimiter=' ', skip_header = 1)\n",
    "graph = nx.Graph(adj_matrix)"
   ]
  },
  {
   "cell_type": "code",
   "execution_count": 3,
   "id": "bc938008-5067-4ff2-ac6b-7c7fe145547e",
   "metadata": {},
   "outputs": [
    {
     "data": {
      "text/plain": [
       "True"
      ]
     },
     "execution_count": 3,
     "metadata": {},
     "output_type": "execute_result"
    }
   ],
   "source": [
    "nx.is_connected(graph)"
   ]
  },
  {
   "cell_type": "markdown",
   "id": "5fa19156-940a-40ef-bcb2-03e88ab81b51",
   "metadata": {},
   "source": [
    "Since the graph is connected, in the algorithms below I will assume that the input graph is connected."
   ]
  },
  {
   "cell_type": "markdown",
   "id": "f22bc271-3dcc-473e-91de-58a4941970bf",
   "metadata": {},
   "source": [
    "## Exercise 1"
   ]
  },
  {
   "cell_type": "markdown",
   "id": "36007443-a329-4a04-8a45-aec7d1a4f2b9",
   "metadata": {},
   "source": [
    "### Question 1"
   ]
  },
  {
   "cell_type": "code",
   "execution_count": 4,
   "id": "adc0d83d-aa2d-4f2e-9747-90ac26f0d2ec",
   "metadata": {},
   "outputs": [],
   "source": [
    "def spectral_algorithm_normalized_laplacian(G):\n",
    "    # (1) Compute the symmetric normalized graph Laplacian\n",
    "    # ∆ = I − D−1/2AD−1/2, with D = Diag(A · 1) the degree matrix.\n",
    "    normalized_laplacian = nx.normalized_laplacian_matrix(G).todense()\n",
    "    # (2) Compute the second smallest eigenpair: (e1, λ1), with  ̃∆e1 = λ1e1\n",
    "    # and λ1 > 0 = λ0.\n",
    "    eigenvalues, eigenvectors = np.linalg.eig(normalized_laplacian)\n",
    "    sorted_eigenvectors = eigenvectors[eigenvalues.argsort()]\n",
    "    e1 = sorted_eigenvectors[1]\n",
    "    # (3) Define the partition Ω1 = {k : e1(k) > 0}, Ω2 = {k : e1(k) ≤ 0}. Set\n",
    "    # d = 2\n",
    "    omega1 = {k for k, g in zip(G.nodes,e1) if g > 0}\n",
    "    omega2 = {k for k, g in zip(G.nodes,e1) if g <= 0}\n",
    "    return omega1, omega2    "
   ]
  },
  {
   "cell_type": "code",
   "execution_count": 5,
   "id": "77db5834-0b18-4339-b35f-8b28f521b0b7",
   "metadata": {},
   "outputs": [
    {
     "name": "stdout",
     "output_type": "stream",
     "text": [
      "{1, 2, 9, 14, 15, 16, 17, 18, 20, 22, 23, 25, 28, 29, 30, 31, 32, 33, 35, 38, 39, 40, 45, 48, 50, 51, 53, 54}\n",
      "{0, 3, 4, 5, 6, 7, 8, 10, 11, 12, 13, 19, 21, 24, 26, 27, 34, 36, 37, 41, 42, 43, 44, 46, 47, 49, 52, 55, 56}\n"
     ]
    }
   ],
   "source": [
    "print(*spectral_algorithm_normalized_laplacian(graph),sep=\"\\n\")"
   ]
  },
  {
   "cell_type": "markdown",
   "id": "05fd567f-ba9b-45cf-9577-78aee34947b8",
   "metadata": {},
   "source": [
    "### Question 2"
   ]
  },
  {
   "cell_type": "code",
   "execution_count": 6,
   "id": "ee171143-4218-417d-a744-bcfc393c7c55",
   "metadata": {},
   "outputs": [],
   "source": [
    "def spectral_algorithm_laplacian(G):\n",
    "    # (1) Compute the graph Laplacian ∆ = D − A, with D = Diag(A · 1), the\n",
    "    # degree matrix.\n",
    "    laplacian = nx.laplacian_matrix(G).todense()\n",
    "    # (2) Compute the second smallest eigenpair: (e1, λ1), with ∆e1 = λ1e1\n",
    "    # and λ1 > 0 = λ0.\n",
    "    eigenvalues, eigenvectors = np.linalg.eig(laplacian)\n",
    "    sorted_eigenvectors = eigenvectors[eigenvalues.argsort()]\n",
    "    e1 = sorted_eigenvectors[1]\n",
    "    # (3) Define the partition Ω1 = {k : e1(k) > 0}, Ω2 = {k : e1(k) ≤ 0}. Set\n",
    "    # d = 2.\n",
    "    omega1 = {k for k, g in zip(G.nodes,e1) if g > 0}\n",
    "    omega2 = {k for k, g in zip(G.nodes,e1) if g <= 0}\n",
    "    return omega1, omega2    "
   ]
  },
  {
   "cell_type": "code",
   "execution_count": 7,
   "id": "49b08625-2e00-4a13-acee-508e750513db",
   "metadata": {},
   "outputs": [
    {
     "name": "stdout",
     "output_type": "stream",
     "text": [
      "{2, 7, 10, 12, 13, 15, 16, 18, 21, 24, 26, 27, 28, 29, 30, 31, 32, 34, 35, 36, 39, 46, 47, 48, 50, 51, 53, 54, 55, 56}\n",
      "{0, 1, 3, 4, 5, 6, 8, 9, 11, 14, 17, 19, 20, 22, 23, 25, 33, 37, 38, 40, 41, 42, 43, 44, 45, 49, 52}\n"
     ]
    }
   ],
   "source": [
    "print(*spectral_algorithm_laplacian(graph),sep=\"\\n\")"
   ]
  },
  {
   "cell_type": "markdown",
   "id": "06df3775-a653-41e9-9cb8-010a2a559b5a",
   "metadata": {},
   "source": [
    "### Question 3"
   ]
  },
  {
   "cell_type": "code",
   "execution_count": 8,
   "id": "ac3e2b5a-d24c-44d7-a956-53663ad8a8f4",
   "metadata": {},
   "outputs": [],
   "source": [
    "def spectral_algorithm_weight(G):\n",
    "    weight = nx.adjacency_matrix(G).todense()\n",
    "    # (1) Compute the second largest eigenpair of A: (f2, μ2), with Af2 = μ2f1.\n",
    "    eigenvalues, eigenvectors = np.linalg.eig(weight)\n",
    "    sorted_eigenvectors = eigenvectors[eigenvalues.argsort()]\n",
    "    f2 = sorted_eigenvectors[-1]\n",
    "    # (2) Define the partition Ω1 = {k : f2(k) > 0}, Ω2 = {k : f2(k) ≤ 0}. Set\n",
    "    # d = 2.\n",
    "    omega1 = {k for k, g in zip(G.nodes,f2) if g > 0}\n",
    "    omega2 = {k for k, g in zip(G.nodes,f2) if g <= 0}\n",
    "    return omega1, omega2    "
   ]
  },
  {
   "cell_type": "code",
   "execution_count": 9,
   "id": "cead87e8-a807-4e30-8c8c-6d2daba25514",
   "metadata": {},
   "outputs": [
    {
     "name": "stdout",
     "output_type": "stream",
     "text": [
      "{2, 4, 5, 7, 10, 12, 13, 15, 18, 19, 20, 26, 28, 29, 31, 32, 40, 41, 43, 44, 45, 50, 51, 52, 53, 54, 56}\n",
      "{0, 1, 3, 6, 8, 9, 11, 14, 16, 17, 21, 22, 23, 24, 25, 27, 30, 33, 34, 35, 36, 37, 38, 39, 42, 46, 47, 48, 49, 55}\n"
     ]
    }
   ],
   "source": [
    "print(*spectral_algorithm_weight(graph),sep=\"\\n\")"
   ]
  },
  {
   "cell_type": "markdown",
   "id": "cee60d8c-e306-4dea-8f62-392356cd8d31",
   "metadata": {},
   "source": [
    "## Exercise 2"
   ]
  },
  {
   "cell_type": "markdown",
   "id": "bfcc1ff0-9b9f-4ae1-90af-5c81dfd81831",
   "metadata": {},
   "source": [
    "### Question 1"
   ]
  },
  {
   "cell_type": "code",
   "execution_count": 10,
   "id": "398570f6-c370-4536-b64f-a92d5b31426e",
   "metadata": {},
   "outputs": [],
   "source": [
    "from scipy.linalg import fractional_matrix_power\n",
    "\n",
    "# Laplacian Eigenmap data embedding for target dimension d = 2\n",
    "def laplacian_eigenmap(G, d):\n",
    "    # Input: Weight matrix W , target dimension d\n",
    "    weight = nx.adjacency_matrix(G).todense()\n",
    "    # (1) Construct the diagonal matrix D = diag(Dii )1≤i≤n, where\n",
    "    # Dii = ∑_{k=1}^N Wi,k\n",
    "    diagonal = np.diag(np.sum(weight,axis=1))\n",
    "    # (2) Construct the normalized Laplacian  ̃∆ = I − D−1/2WD−1/2.\n",
    "    normalized_laplacian = nx.normalized_laplacian_matrix(G).todense()\n",
    "    # (3) Compute the bottom d + 1 eigenvectors e1, · · · , ed+1,  ̃∆ek = λk ek ,\n",
    "    # 0 = λ1 ≤ · · · ≤ λd+1.\n",
    "    eigenvalues, eigenvectors = np.linalg.eig(weight)\n",
    "    sorted_eigenvectors = eigenvectors[eigenvalues.argsort()]\n",
    "    bottom_eigenvectors = sorted_eigenvectors[1:d+1]\n",
    "    # (4) Construct the d × n matrix Y:\n",
    "    # Y = [e2^T, ..., ed+1^T]^T * D−1/2\n",
    "    Y = bottom_eigenvectors @ fractional_matrix_power(diagonal,-1/2)\n",
    "    # (5) The new geometric graph is obtained by converting the columns of Y\n",
    "    # into n d-dimensional vectors:\n",
    "    # [y1 | · · · | yn] = Y\n",
    "    return Y"
   ]
  },
  {
   "cell_type": "code",
   "execution_count": 11,
   "id": "505612a3-3dd0-4162-afaf-eaf3c9c5ced3",
   "metadata": {},
   "outputs": [
    {
     "name": "stdout",
     "output_type": "stream",
     "text": [
      "[[-1.12599047e-02 -2.15910342e-02]\n",
      " [-3.27488846e-02 -2.92721049e-02]\n",
      " [ 2.22429994e-02  2.44255624e-02]\n",
      " [ 3.49987674e-03 -3.47225796e-03]\n",
      " [-4.51329650e-03 -1.95043033e-02]\n",
      " [-8.22316376e-02  1.93752228e-02]\n",
      " [-1.56497573e-02  3.49513417e-02]\n",
      " [ 1.72236397e-02  8.09014180e-05]\n",
      " [ 1.18906175e-02  5.78695885e-03]\n",
      " [ 3.21866931e-02  1.16106931e-02]\n",
      " [ 5.58814077e-02 -8.79114111e-03]\n",
      " [-6.94973036e-03 -1.97632765e-02]\n",
      " [-3.04449576e-03  2.40977815e-03]\n",
      " [ 3.71272278e-04  4.87455535e-02]\n",
      " [-2.90039838e-02  2.75288419e-02]\n",
      " [ 6.89024714e-03 -2.92996839e-02]\n",
      " [ 5.34611495e-02 -3.56280619e-02]\n",
      " [-1.28930370e-02  2.07849200e-02]\n",
      " [ 2.52231122e-02 -5.21711574e-03]\n",
      " [ 1.40133184e-04 -1.48202033e-01]\n",
      " [ 8.64698666e-03 -9.48100763e-02]\n",
      " [ 2.08578689e-02  1.93541120e-02]\n",
      " [-1.15411286e-02 -4.83353769e-03]\n",
      " [ 2.55421836e-02  4.87672642e-02]\n",
      " [-1.28471033e-02 -8.42377824e-04]\n",
      " [-5.69251740e-02 -4.40078735e-02]\n",
      " [ 8.89271242e-03 -2.18163230e-02]\n",
      " [ 1.71363849e-04  1.48292606e-02]\n",
      " [-7.45593483e-02 -4.60926085e-02]\n",
      " [-2.25283707e-02  2.13197395e-02]\n",
      " [ 9.47816831e-03  1.32552424e-02]\n",
      " [-2.11518572e-02 -1.71252616e-02]\n",
      " [ 1.33909590e-02 -2.66281567e-02]\n",
      " [ 2.45947036e-03  5.83056084e-03]\n",
      " [ 1.98089059e-02 -1.05653305e-02]\n",
      " [ 2.95066342e-02  1.81535032e-02]\n",
      " [ 3.85371628e-02  1.53802142e-02]\n",
      " [-2.40415591e-03 -1.66935489e-02]\n",
      " [ 1.32683503e-02 -5.67092229e-02]\n",
      " [ 7.49487883e-02  1.64692209e-02]\n",
      " [ 2.41150728e-02  3.29877421e-03]\n",
      " [ 3.88416833e-02 -2.66968732e-02]\n",
      " [ 4.00551578e-02  1.14955401e-02]\n",
      " [ 1.08411638e-02  4.82981278e-04]\n",
      " [-1.50370868e-03  1.41181088e-02]\n",
      " [-3.39936160e-02  9.11417738e-03]\n",
      " [ 8.87827236e-02  7.62498609e-03]\n",
      " [ 8.24995400e-02  2.62599110e-02]\n",
      " [-3.21534703e-16  2.90791989e-16]\n",
      " [ 1.97739035e-16  3.45129442e-17]\n",
      " [ 2.95739422e-17 -1.54754483e-17]\n",
      " [ 1.03396882e-16  1.20312321e-17]\n",
      " [ 7.51401409e-17 -2.48655210e-19]\n",
      " [-2.45800084e-17 -2.97853885e-17]\n",
      " [ 1.10871976e-17 -2.41423136e-17]\n",
      " [-9.55801509e-17 -6.82240449e-18]\n",
      " [ 2.72683561e-17  1.86398182e-17]]\n"
     ]
    }
   ],
   "source": [
    "laplacian_eigenmap_embedding = laplacian_eigenmap(graph,2).T\n",
    "print(laplacian_eigenmap_embedding)"
   ]
  },
  {
   "cell_type": "markdown",
   "id": "95ff9dae-d623-4a6f-9f89-45c2ab49c410",
   "metadata": {},
   "source": [
    "# Exercise 2"
   ]
  },
  {
   "cell_type": "code",
   "execution_count": 104,
   "id": "91fa287a-3008-4eaa-8b7a-9cd878130006",
   "metadata": {},
   "outputs": [
    {
     "name": "stdout",
     "output_type": "stream",
     "text": [
      "[[-1.12599047e-02 -3.27488846e-02  2.22429994e-02  3.49987674e-03\n",
      "  -4.51329650e-03 -8.22316376e-02 -1.56497573e-02  1.72236397e-02\n",
      "   1.18906175e-02  3.21866931e-02  5.58814077e-02 -6.94973036e-03\n",
      "  -3.04449576e-03  3.71272278e-04 -2.90039838e-02  6.89024714e-03\n",
      "   5.34611495e-02 -1.28930370e-02  2.52231122e-02  1.40133184e-04\n",
      "   8.64698666e-03  2.08578689e-02 -1.15411286e-02  2.55421836e-02\n",
      "  -1.28471033e-02 -5.69251740e-02  8.89271242e-03  1.71363849e-04\n",
      "  -7.45593483e-02 -2.25283707e-02  9.47816831e-03 -2.11518572e-02\n",
      "   1.33909590e-02  2.45947036e-03  1.98089059e-02  2.95066342e-02\n",
      "   3.85371628e-02 -2.40415591e-03  1.32683503e-02  7.49487883e-02\n",
      "   2.41150728e-02  3.88416833e-02  4.00551578e-02  1.08411638e-02\n",
      "  -1.50370868e-03 -3.39936160e-02  8.87827236e-02  8.24995400e-02\n",
      "  -3.21534703e-16  1.97739035e-16  2.95739422e-17  1.03396882e-16\n",
      "   7.51401409e-17 -2.45800084e-17  1.10871976e-17 -9.55801509e-17\n",
      "   2.72683561e-17]\n",
      " [-2.15910342e-02 -2.92721049e-02  2.44255624e-02 -3.47225796e-03\n",
      "  -1.95043033e-02  1.93752228e-02  3.49513417e-02  8.09014180e-05\n",
      "   5.78695885e-03  1.16106931e-02 -8.79114111e-03 -1.97632765e-02\n",
      "   2.40977815e-03  4.87455535e-02  2.75288419e-02 -2.92996839e-02\n",
      "  -3.56280619e-02  2.07849200e-02 -5.21711574e-03 -1.48202033e-01\n",
      "  -9.48100763e-02  1.93541120e-02 -4.83353769e-03  4.87672642e-02\n",
      "  -8.42377824e-04 -4.40078735e-02 -2.18163230e-02  1.48292606e-02\n",
      "  -4.60926085e-02  2.13197395e-02  1.32552424e-02 -1.71252616e-02\n",
      "  -2.66281567e-02  5.83056084e-03 -1.05653305e-02  1.81535032e-02\n",
      "   1.53802142e-02 -1.66935489e-02 -5.67092229e-02  1.64692209e-02\n",
      "   3.29877421e-03 -2.66968732e-02  1.14955401e-02  4.82981278e-04\n",
      "   1.41181088e-02  9.11417738e-03  7.62498609e-03  2.62599110e-02\n",
      "   2.90791989e-16  3.45129442e-17 -1.54754483e-17  1.20312321e-17\n",
      "  -2.48655210e-19 -2.97853885e-17 -2.41423136e-17 -6.82240449e-18\n",
      "   1.86398182e-17]]\n",
      "(2, 57)\n"
     ]
    }
   ],
   "source": [
    "laplacian_eigenmap_embedding = laplacian_eigenmap(graph,d=2)\n",
    "print(laplacian_eigenmap_embedding,laplacian_eigenmap_embedding.shape, sep=\"\\n\")"
   ]
  },
  {
   "cell_type": "markdown",
   "id": "980341cd-e5a6-4eda-8169-c7e27e2e542c",
   "metadata": {},
   "source": [
    "### Part a"
   ]
  },
  {
   "cell_type": "code",
   "execution_count": 110,
   "id": "f7edb1f2-69d1-4b84-a1c9-10ab6addf531",
   "metadata": {},
   "outputs": [
    {
     "name": "stdout",
     "output_type": "stream",
     "text": [
      "(57, 10)\n"
     ]
    }
   ],
   "source": [
    "laplacian_eigenmap_graph = laplacian_eigenmap(graph,d=10).T\n",
    "print(laplacian_eigenmap_graph.shape, sep=\"\\n\")\n",
    "#print(laplacian_eigenmap_graph,laplacian_eigenmap_graph.shape, sep=\"\\n\")"
   ]
  },
  {
   "cell_type": "markdown",
   "id": "d1733013-abf6-4c16-8519-b5f1215b97ec",
   "metadata": {},
   "source": [
    "### Part b"
   ]
  },
  {
   "cell_type": "code",
   "execution_count": 109,
   "id": "fa5f0606-405d-40a0-b08d-fc11e6f3de97",
   "metadata": {},
   "outputs": [],
   "source": [
    "from scipy.optimize import minimize\n",
    "\n",
    "def dimension_reduction_lle_non_negativity_constraints(X, K, d):\n",
    "    # Input: A geometric graph {x1, x2, · · · , xn} ⊂ RN . Parameters:\n",
    "    # neighborhood size K and dimension d.\n",
    "    n = X.shape[0]\n",
    "    \n",
    "    # (1) Finding the weight matrix B: \n",
    "    B = np.zeros((n, n))\n",
    "   \n",
    "    # (Precomputing nearest neighbors for each point)\n",
    "    nn = NearestNeighbors(n_neighbors=K+1)\n",
    "    nn.fit(X)\n",
    "    _, indices = nn.kneighbors(X)\n",
    "    V = indices[:, 1:] ## the closest neighbor is itself, so remove it\n",
    "    #print(indices)\n",
    "    \n",
    "    # For each point i do the following:\n",
    "    for i in range(n):\n",
    "        # (1) Find its closest K neighbors, say Vi; \n",
    "        # Let r : Vi → {1, 2, · · · , K } denote an indexing map;\n",
    "        closest_k_neighbors = X[V[i]]\n",
    "        # (2) Compute the K × K local covariance matrix C,\n",
    "        # Cr(j),r(k) = 〈xj − xi , xk − xi.\n",
    "        closest_k_neighbors_diffs = closest_k_neighbors - X[i]\n",
    "        C = np.cov(closest_k_neighbors_diffs)\n",
    "        # (3) Solve for u, minimize u^T C u subject to u ≥ 0 , u^T · 1 = 1\n",
    "        # where 1 denotes the K -vector of 1’s.\n",
    "        objective = lambda u: u.dot(C.dot(u)) \n",
    "        constraints = (\n",
    "            {'type': 'eq', 'fun': lambda u: u.dot(np.ones(K)) - 1},\n",
    "            {'type': 'ineq', 'fun': lambda u: u})\n",
    "        u0 = np.ones(K)\n",
    "        result = minimize(objective, u0, method='SLSQP', constraints=constraints)\n",
    "        u = result.x\n",
    "        # (4) Set Bi,j = ur(j) for j ∈ Vi.\n",
    "        B[i, V[i]] = u\n",
    "    assert B.shape == (n, n)\n",
    "    #print(B)\n",
    "        \n",
    "    # (2) Solving the Eigen Problem:\n",
    "    # (1) Create the (typically sparse) matrix L = (I − B)^T (I − B);\n",
    "    L = (np.eye(n) - B).T @ (np.eye(n) - B)\n",
    "    #print(L)\n",
    "    # (2) Find the bottom d + 1 eigenvectors of L (the bottom eigenvector\n",
    "    # would be [1, · · · , 1]^T associated to eigenvalue 0) {e1, e2, · · · , ed+1};\n",
    "    eigenvalues, eigenvectors = np.linalg.eig(L)\n",
    "    sorted_eigenvectors = eigenvectors[eigenvalues.argsort()]\n",
    "    # (3) Discard the last vector (the constant eigenvector) and insert all other\n",
    "    # eigenvectors as rows into matrix Y:\n",
    "    # Y = [e2^T, ..., ed+1^T]^T * D−1/2\n",
    "    Y = sorted_eigenvectors[1:d+1]\n",
    "    # Output: {y1, · · · , yn} ⊂ Rd as columns from\n",
    "    # [ y1 | · · · | yn ] = Y\n",
    "    assert Y.shape == (d, n)\n",
    "    return Y"
   ]
  },
  {
   "cell_type": "code",
   "execution_count": 111,
   "id": "ab28283e-062c-449e-baf1-46e98c66c4f2",
   "metadata": {},
   "outputs": [
    {
     "name": "stdout",
     "output_type": "stream",
     "text": [
      "[[ 0.00267975  0.0114646   0.00574405 -0.04450034  0.05657768 -0.05394991\n",
      "   0.10114738 -0.01053797 -0.07018607 -0.05155877  0.00697857 -0.02846413\n",
      "  -0.13245324  0.27748197  0.03750188  0.07029852  0.08272905 -0.04366015\n",
      "   0.07019904  0.05358924  0.08958087 -0.13805637  0.00494587 -0.05186573\n",
      "   0.02990038 -0.08233417  0.15690564  0.01241328  0.00977853 -0.11392819\n",
      "   0.09475964  0.02548897  0.013229   -0.03667518 -0.22470288  0.04846592\n",
      "   0.13547424  0.11816398 -0.22881258 -0.08243871  0.00769859  0.22251944\n",
      "  -0.44153484 -0.13042752  0.19522693  0.02276006 -0.15289664  0.18408871\n",
      "   0.22365201  0.17216924  0.09581355 -0.01651044  0.21307121 -0.08083033\n",
      "   0.21307979 -0.07480855 -0.27432102]\n",
      " [ 0.02470133  0.13345905  0.02350369  0.06408198  0.1192706  -0.00282623\n",
      "   0.12870572  0.06962908  0.05102628  0.15332291  0.1105462  -0.09778939\n",
      "  -0.13245324 -0.05079629  0.03318174 -0.03476498 -0.16760201  0.08770921\n",
      "  -0.19909632 -0.11188121  0.2558908  -0.06849411  0.15894462  0.21045299\n",
      "  -0.28788589  0.18192112 -0.24983356  0.21450969  0.04920007 -0.30371604\n",
      "  -0.10151402  0.08928793 -0.03601429  0.10150611 -0.27251817 -0.17290322\n",
      "  -0.04123418 -0.09418887  0.01622467 -0.05637402  0.07695327 -0.06169669\n",
      "   0.12329578  0.05571889  0.13480428  0.12857744  0.02351674  0.13743108\n",
      "   0.11387036  0.03048718 -0.01285275  0.08556805 -0.15561218 -0.19887055\n",
      "  -0.01841018 -0.07778456 -0.04940327]]\n",
      "(2, 57)\n"
     ]
    }
   ],
   "source": [
    "lle_embedding = dimension_reduction_lle_non_negativity_constraints(laplacian_eigenmap_graph, K=4, d=2)\n",
    "print(lle_embedding, lle_embedding.shape, sep=\"\\n\")"
   ]
  },
  {
   "cell_type": "markdown",
   "id": "31297ba4-b7f1-47ad-8f14-d5b66647e609",
   "metadata": {},
   "source": [
    "### Plotting"
   ]
  },
  {
   "cell_type": "code",
   "execution_count": 134,
   "id": "d4fa18c9-f406-4c14-8aba-92ce32a2f490",
   "metadata": {},
   "outputs": [
    {
     "data": {
      "text/plain": [
       "<matplotlib.legend.Legend at 0x1eeabd83490>"
      ]
     },
     "execution_count": 134,
     "metadata": {},
     "output_type": "execute_result"
    },
    {
     "data": {
      "image/png": "[encoded data removed]",
      "text/plain": [
       "<Figure size 1512x504 with 3 Axes>"
      ]
     },
     "metadata": {
      "needs_background": "light"
     },
     "output_type": "display_data"
    }
   ],
   "source": [
    "# Plot both embeddings in two different figures,\n",
    "# and then on the same figure using different colors.\n",
    "def add_axis_lines(ax): ax.axvline(x=0, c=\"gray\", linewidth=1, zorder=-1); ax.axhline(y=0, c=\"gray\", linewidth=1, zorder=-1)\n",
    "\n",
    "fig, (ax1, ax2, ax3) = plt.subplots(1, 3, figsize=(21, 7))\n",
    "add_axis_lines(ax3)\n",
    "add_axis_lines(ax2)\n",
    "add_axis_lines(ax1)\n",
    "\n",
    "ax1.scatter(*laplacian_eigenmap_embedding, s=7, color=\"blue\")\n",
    "ax1.set_title(\"Laplacian Eigenmap Embedding\")\n",
    "\n",
    "ax2.scatter(*lle_embedding, s=7, color=\"red\")\n",
    "ax2.set_title(\"LLE with Non-Negativity Embedding\")\n",
    "\n",
    "ax3.scatter(*laplacian_eigenmap_embedding, s=7, color=\"blue\", label=\"Laplacian\")\n",
    "ax3.scatter(*lle_embedding, s=7, color=\"red\", label=\"Eigenmap\")\n",
    "ax3.set_title(\"Both Embeddings\")\n",
    "ax3.legend()"
   ]
  }
 ],
 "metadata": {
  "kernelspec": {
   "display_name": "Python 3 (ipykernel)",
   "language": "python",
   "name": "python3"
  },
  "language_info": {
   "codemirror_mode": {
    "name": "ipython",
    "version": 3
   },
   "file_extension": ".py",
   "mimetype": "text/x-python",
   "name": "python",
   "nbconvert_exporter": "python",
   "pygments_lexer": "ipython3",
   "version": "3.10.4"
  }
 },
 "nbformat": 4,
 "nbformat_minor": 5
}
