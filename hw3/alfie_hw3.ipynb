{
 "cells": [
  {
   "cell_type": "code",
   "execution_count": 3,
   "metadata": {},
   "outputs": [
    {
     "name": "stdout",
     "output_type": "stream",
     "text": [
      "Matrix loaded with shape (40, 40) and 381 edges\n"
     ]
    }
   ],
   "source": [
    "import numpy as np\n",
    "import matplotlib.pyplot as plt\n",
    "from scipy.optimize import minimize\n",
    "\n",
    "def load_data(file):\n",
    "    data = iter(open(file, \"r\", encoding=\"utf-8\")) \n",
    "    n, m = next(data).strip().split(\" \")\n",
    "    n, m = int(n), int(m)\n",
    "    matrix = [[float(x) for x in row.strip().split(\" \")] for row in data] \n",
    "    matrix = np.array(matrix)\n",
    "\n",
    "    return matrix, n, m\n",
    "\n",
    "matrix, n, m = load_data(\"/Users/yuchenhongshu/UMD_Courses/MATH420/HW/amsc420-project-2/sgb128Nodes41to80_weight20.txt\") \n",
    "print(f\"Matrix loaded with shape {matrix.shape} and {m} edges\")"
   ]
  }
 ],
 "metadata": {
  "kernelspec": {
   "display_name": "Python 3",
   "language": "python",
   "name": "python3"
  },
  "language_info": {
   "codemirror_mode": {
    "name": "ipython",
    "version": 3
   },
   "file_extension": ".py",
   "mimetype": "text/x-python",
   "name": "python",
   "nbconvert_exporter": "python",
   "pygments_lexer": "ipython3",
   "version": "3.9.16"
  },
  "orig_nbformat": 4
 },
 "nbformat": 4,
 "nbformat_minor": 2
}
