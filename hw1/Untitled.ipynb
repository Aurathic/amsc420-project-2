{
 "cells": [
  {
   "cell_type": "markdown",
   "id": "77ff6fa3-432f-45bb-8c51-e163231e5929",
   "metadata": {},
   "source": [
    "# Team 2 Group HW 1"
   ]
  },
  {
   "cell_type": "markdown",
   "id": "78940208-5776-4f71-871f-6e381f329000",
   "metadata": {},
   "source": [
    "## Question 1"
   ]
  },
  {
   "cell_type": "code",
   "execution_count": 69,
   "id": "70e1be86-e200-4e2d-b7ad-57ae29886338",
   "metadata": {},
   "outputs": [],
   "source": [
    "from collections import Counter"
   ]
  },
  {
   "cell_type": "code",
   "execution_count": 70,
   "id": "10ebc0b0-d6e2-4736-a994-f366cdf7a8ff",
   "metadata": {},
   "outputs": [],
   "source": [
    "def num_q_cliques(adj, q):\n",
    "    \"\"\"\n",
    "    Computes the number of q-cliques of a given graph (defined through its adjacency matrix).\n",
    "    Adapted from https://www.geeksforgeeks.org/find-the-number-of-cliques-in-a-graph/\n",
    "    \"\"\"\n",
    "    cliques = []\n",
    "    visited = set()\n",
    " \n",
    "    def dfs(node, clique):\n",
    "        visited.add(node)\n",
    "        clique.add(node)\n",
    "        for neighbor, connected in enumerate(graph[node]):\n",
    "            if connected and neighbor not in visited:\n",
    "                dfs(neighbor, clique)\n",
    " \n",
    "    for node in range(len(graph)):\n",
    "        if node not in visited:\n",
    "            clique = set()\n",
    "            dfs(node, clique)\n",
    "            if len(clique) > 1:\n",
    "                cliques.append(clique)\n",
    " \n",
    "    print(cliques)\n",
    "    return Counter(map(len, cliques))[q]"
   ]
  },
  {
   "cell_type": "code",
   "execution_count": 71,
   "id": "20c7a471-65ec-40be-8369-3c4241a83e4e",
   "metadata": {},
   "outputs": [],
   "source": [
    "from itertools import combinations, product \n",
    "\n",
    "def num_q_cliques(adj, q):\n",
    "    \"\"\"\n",
    "    Computes the number of q-cliques of a given graph (defined through its adjacency matrix).\n",
    "    \"\"\"\n",
    "    n = len(adj)\n",
    "    node_combinations = combinations(range(n),q)\n",
    "    cycles = [all(adj[x][y] for x, y in product(l,l) if x != y) for l in node_combinations]\n",
    "    num_cycles = sum(cycles)\n",
    "    return num_cycles"
   ]
  },
  {
   "cell_type": "code",
   "execution_count": 72,
   "id": "aa5b11d3-1474-4275-aeaa-6440f2573288",
   "metadata": {
    "tags": []
   },
   "outputs": [
    {
     "data": {
      "text/plain": [
       "6"
      ]
     },
     "execution_count": 72,
     "metadata": {},
     "output_type": "execute_result"
    }
   ],
   "source": [
    "# Example usage (Testing)\n",
    "\"\"\"\n",
    "graph = {\n",
    "    'A': ['B', 'C', 'D'],\n",
    "    'B': ['A', 'C', 'D'],\n",
    "    'C': ['A', 'B', 'D'],\n",
    "    'D': ['A', 'B', 'C'],\n",
    "    'E': ['F'],\n",
    "    'F': ['E']\n",
    "}\n",
    "\"\"\"\n",
    "graph = [\n",
    "    [0, 1, 1, 0, 0, 0],\n",
    "    [1, 0, 1, 1, 0, 0],\n",
    "    [1, 1, 0, 1, 0, 0],\n",
    "    [0, 1, 1, 0, 0, 0],\n",
    "    [1, 0, 0, 0, 0, 1],\n",
    "    [1, 1, 0, 0, 1, 0]]\n",
    "num_q_cliques(graph, 2)"
   ]
  },
  {
   "cell_type": "markdown",
   "id": "732970b9-36f0-4253-9f4f-968d3aee4c85",
   "metadata": {},
   "source": [
    "# Question 2"
   ]
  },
  {
   "cell_type": "code",
   "execution_count": 73,
   "id": "76fea68f-c574-4851-abcb-5f14ab292306",
   "metadata": {},
   "outputs": [],
   "source": [
    "# f = open(\"..\\kn57Nodes1to57_adj20.txt\", \"r\")\n",
    "f = open(\"/Users/yuchenhongshu/UMD_Courses/MATH420/HW/amsc420-project-2/kn57Nodes1to57_adj20.txt\", \"r\")\n",
    "lines = f.readlines()\n",
    "num_nodes, num_edges = map(int, lines[0].split())\n",
    "adj_matrix = [list(map(int, line[:-1].split())) for line in lines[1:]]"
   ]
  },
  {
   "cell_type": "code",
   "execution_count": 74,
   "id": "cd558da1-aae7-485b-a2d4-6cedfbcb0582",
   "metadata": {},
   "outputs": [
    {
     "name": "stdout",
     "output_type": "stream",
     "text": [
      "Number of nodes: 57\n",
      "Number of edges: 804\n",
      "Number of 3-cliques (Triangles): 7075\n",
      "Number of 4-cliques (Complete four-vertex subgraphs): 43711\n"
     ]
    }
   ],
   "source": [
    "print(f\"\"\"Number of nodes: {num_nodes}\n",
    "Number of edges: {num_edges}\n",
    "Number of 3-cliques (Triangles): {num_q_cliques(adj_matrix, 3)}\n",
    "Number of 4-cliques (Complete four-vertex subgraphs): {num_q_cliques(adj_matrix, 4)}\"\"\")"
   ]
  },
  {
   "cell_type": "markdown",
   "id": "61d82048-1650-4640-84b8-718bf1463031",
   "metadata": {},
   "source": [
    "# Question 3"
   ]
  },
  {
   "cell_type": "code",
   "execution_count": 75,
   "id": "6c9887e3-a45c-4b8a-a9f5-87b86450edfb",
   "metadata": {},
   "outputs": [
    {
     "name": "stdout",
     "output_type": "stream",
     "text": [
      "Maximum Likelihood Estimate (MLE) for p under Erdos-Renyi model: 0.5037593984962406\n"
     ]
    }
   ],
   "source": [
    "p_MLE = (2 * num_edges) / (num_nodes * (num_nodes - 1))\n",
    "\n",
    "print(f\"Maximum Likelihood Estimate (MLE) for p under Erdos-Renyi model: {p_MLE}\")"
   ]
  },
  {
   "cell_type": "markdown",
   "id": "618548c8-1948-44b2-8031-a13e680f81f8",
   "metadata": {},
   "source": [
    "# Question 4"
   ]
  },
  {
   "cell_type": "code",
   "execution_count": 76,
   "id": "77f043b1-ea1e-405c-9de1-18cb4fbe1966",
   "metadata": {},
   "outputs": [
    {
     "name": "stdout",
     "output_type": "stream",
     "text": [
      "Expected number of 3-cliques: 3740.6218553903564\n",
      "Expected number of 4-cliques: 6455.755303411616\n"
     ]
    }
   ],
   "source": [
    "from math import comb\n",
    "\n",
    "expected_q_cliques = lambda q: comb(num_nodes, q) * (p_MLE ** (q * (q - 1) / 2))\n",
    "\n",
    "print(f\"\"\"Expected number of 3-cliques: {expected_q_cliques(3)}\n",
    "Expected number of 4-cliques: {expected_q_cliques(4)}\"\"\")"
   ]
  },
  {
   "cell_type": "code",
   "execution_count": 77,
   "id": "fa106e52-e3e6-4103-ad32-2a0a2c04bf4d",
   "metadata": {},
   "outputs": [],
   "source": [
    "# import numpy as np\n",
    "# from numpy.linalg import matrix_power\n",
    "\n",
    "# np.trace(matrix_power(np.array(adj_matrix),4))/24"
   ]
  },
  {
   "attachments": {},
   "cell_type": "markdown",
   "id": "1549a7ce",
   "metadata": {},
   "source": [
    "# Question 5"
   ]
  },
  {
   "cell_type": "code",
   "execution_count": 78,
   "id": "e5d79ca7-8926-4de5-8dd4-d621b86276c3",
   "metadata": {},
   "outputs": [
    {
     "name": "stdout",
     "output_type": "stream",
     "text": [
      "Expected value for a for the Symmetric Stochastic Block Model with 2-communities SSBM(n,2,a,b) by Method of Moments: 0.9885790067394369,\n",
      "Expected value for b for the Symmetric Stochastic Block Model with 2-communities SSBM(n,2,a,b) by Method of Moments: 0.01893979025304432\n"
     ]
    }
   ],
   "source": [
    "m = num_edges\n",
    "n = num_nodes\n",
    "t = num_q_cliques(adj_matrix, 3)\n",
    "\n",
    "c_1 = 4 * m / (n * (n - 1))\n",
    "c_2 = 24 * t / (n * (n - 1) * (n - 2))\n",
    "\n",
    "a_MM = (1/2) * (c_1 + (2 * c_2 - c_1 ** 3) ** (1/3))\n",
    "b_MM = (1/2) * (c_1 - (2 * c_2 - c_1 ** 3) ** (1/3))\n",
    "\n",
    "print(f\"\"\"Expected value for a for the Symmetric Stochastic Block Model with 2-communities SSBM(n,2,a,b) by Method of Moments: {a_MM},\n",
    "Expected value for b for the Symmetric Stochastic Block Model with 2-communities SSBM(n,2,a,b) by Method of Moments: {b_MM}\"\"\")"
   ]
  },
  {
   "attachments": {},
   "cell_type": "markdown",
   "id": "80dc4400",
   "metadata": {},
   "source": [
    "# Question 6"
   ]
  },
  {
   "cell_type": "code",
   "execution_count": 79,
   "id": "96bd8525",
   "metadata": {},
   "outputs": [
    {
     "name": "stdout",
     "output_type": "stream",
     "text": [
      "Expected number of 4-cliques: 46089.160392458965\n"
     ]
    }
   ],
   "source": [
    "E_n1 = n / 2\n",
    "E_n1_square = (n ** 2 + n) / 4\n",
    "E_n1_cube = (n ** 2) * (n + 3) / 8\n",
    "E_n1_quad = n * (n + 1) * (n ** 2 + 5 * n - 2) / 16\n",
    "\n",
    "expected_4_cliques = (\n",
    "    (a_MM ** 6) / 24 *\n",
    "    (   \n",
    "        2 * E_n1_quad - \n",
    "        4 * n * E_n1_cube + \n",
    "        (6 * (n ** 2) - 18 * n + 22) * E_n1_square + \n",
    "        (-4 * (n ** 3) + 18 * (n ** 2) - 22 * n) * E_n1 + \n",
    "        (n ** 4) - 6 * (n ** 3) + 11 * (n ** 2) - 6 * n\n",
    "    ) +\n",
    "    (a_MM ** 3) * (b_MM ** 3) / 6 *\n",
    "    (\n",
    "        -2 * E_n1_quad +\n",
    "        4 * n * E_n1_cube +\n",
    "        (-3 * (n ** 2) + 3 * n - 4) * E_n1_square +\n",
    "        ((n ** 3) - 3 * (n ** 2) + 4 * n) * E_n1\n",
    "    ) +\n",
    "    (a_MM ** 2) * (b_MM ** 4) / 4 *\n",
    "    (\n",
    "        E_n1_quad -\n",
    "        2 * n * E_n1_cube + \n",
    "        ((n ** 2) + n - 1) * E_n1_square +\n",
    "        (-(n ** 2) + n) * E_n1\n",
    "    )\n",
    ")\n",
    "\n",
    "print(f\"Expected number of 4-cliques: {expected_4_cliques}\")"
   ]
  }
 ],
 "metadata": {
  "kernelspec": {
   "display_name": "Python 3 (ipykernel)",
   "language": "python",
   "name": "python3"
  },
  "language_info": {
   "codemirror_mode": {
    "name": "ipython",
    "version": 3
   },
   "file_extension": ".py",
   "mimetype": "text/x-python",
   "name": "python",
   "nbconvert_exporter": "python",
   "pygments_lexer": "ipython3",
   "version": "3.9.16"
  }
 },
 "nbformat": 4,
 "nbformat_minor": 5
}
