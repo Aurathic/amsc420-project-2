{
 "cells": [
  {
   "cell_type": "markdown",
   "id": "77ff6fa3-432f-45bb-8c51-e163231e5929",
   "metadata": {},
   "source": [
    "# Team 2 Group HW 1"
   ]
  },
  {
   "cell_type": "markdown",
   "id": "78940208-5776-4f71-871f-6e381f329000",
   "metadata": {},
   "source": [
    "## Question 1"
   ]
  },
  {
   "cell_type": "code",
   "execution_count": 6,
   "id": "10ebc0b0-d6e2-4736-a994-f366cdf7a8ff",
   "metadata": {},
   "outputs": [],
   "source": [
    "def num_q_cliques(adj, q):\n",
    "    \"\"\"\n",
    "    Computes the number of q-cliques of a given graph (defined through its adjacency matrix).\n",
    "    Adapted from https://www.geeksforgeeks.org/find-the-number-of-cliques-in-a-graph/\n",
    "    \"\"\"\n",
    "    cliques = []\n",
    "    visited = set()\n",
    " \n",
    "    def dfs(node, clique):\n",
    "        visited.add(node)\n",
    "        clique.add(node)\n",
    "        for neighbor, connected in enumerate(graph[node]):\n",
    "            if connected and neighbor not in visited:\n",
    "                dfs(neighbor, clique)\n",
    " \n",
    "    for node in range(len(graph)):\n",
    "        if node not in visited:\n",
    "            clique = set()\n",
    "            dfs(node, clique)\n",
    "            if len(clique) > 1:\n",
    "                cliques.append(clique)\n",
    " \n",
    "    return cliques"
   ]
  },
  {
   "cell_type": "code",
   "execution_count": 5,
   "id": "aa5b11d3-1474-4275-aeaa-6440f2573288",
   "metadata": {},
   "outputs": [
    {
     "data": {
      "text/plain": [
       "[{0, 1, 2, 3}, {4, 5}]"
      ]
     },
     "execution_count": 5,
     "metadata": {},
     "output_type": "execute_result"
    }
   ],
   "source": [
    "# Example usage\n",
    "\"\"\"\n",
    "graph = {\n",
    "    'A': ['B', 'C', 'D'],\n",
    "    'B': ['A', 'C', 'D'],\n",
    "    'C': ['A', 'B', 'D'],\n",
    "    'D': ['A', 'B', 'C'],\n",
    "    'E': ['F'],\n",
    "    'F': ['E']\n",
    "}\n",
    "\"\"\"\n",
    "graph = [\n",
    "    [0, 1, 1, 1, 0, 0],\n",
    "    [1, 0, 1, 1, 0, 0],\n",
    "    [1, 1, 0, 1, 0, 0],\n",
    "    [1, 1, 1, 0, 0, 0],\n",
    "    [0, 0, 0, 0, 0, 1],\n",
    "    [0, 0, 0, 0, 1, 0]]\n",
    "num_q_cliques(graph, 1)"
   ]
  }
 ],
 "metadata": {
  "kernelspec": {
   "display_name": "Python 3 (ipykernel)",
   "language": "python",
   "name": "python3"
  },
  "language_info": {
   "codemirror_mode": {
    "name": "ipython",
    "version": 3
   },
   "file_extension": ".py",
   "mimetype": "text/x-python",
   "name": "python",
   "nbconvert_exporter": "python",
   "pygments_lexer": "ipython3",
   "version": "3.10.4"
  }
 },
 "nbformat": 4,
 "nbformat_minor": 5
}
