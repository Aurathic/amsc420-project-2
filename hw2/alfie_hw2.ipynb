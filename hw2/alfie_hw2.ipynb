{
 "cells": [
  {
   "attachments": {},
   "cell_type": "markdown",
   "metadata": {},
   "source": [
    "# Exercise 1"
   ]
  },
  {
   "cell_type": "code",
   "execution_count": 21,
   "metadata": {},
   "outputs": [
    {
     "name": "stdout",
     "output_type": "stream",
     "text": [
      "Matrix loaded with 40 nodes\n",
      "Loaded 780 edges\n",
      "Lambda 1 finished computing\n"
     ]
    }
   ],
   "source": []
  },
  {
   "attachments": {},
   "cell_type": "markdown",
   "metadata": {},
   "source": [
    "## Exercise 1.1"
   ]
  },
  {
   "cell_type": "code",
   "execution_count": 22,
   "metadata": {},
   "outputs": [
    {
     "name": "stderr",
     "output_type": "stream",
     "text": [
      "/usr/local/lib/python3.9/site-packages/matplotlib/cbook/__init__.py:1298: ComplexWarning: Casting complex values to real discards the imaginary part\n",
      "  return np.asarray(x, float)\n"
     ]
    },
    {
     "data": {
      "image/png": "[encoded data removed]",
      "text/plain": [
       "<Figure size 432x288 with 1 Axes>"
      ]
     },
     "metadata": {
      "needs_background": "light"
     },
     "output_type": "display_data"
    }
   ],
   "source": [
    "k_values = np.arange(1, m + 1) \n",
    "plt.plot(k_values, lambda1_values) \n",
    "plt.xlabel(\"k\") \n",
    "plt.ylabel(\"λ_1(k)\")\n",
    "plt.show()"
   ]
  },
  {
   "attachments": {},
   "cell_type": "markdown",
   "metadata": {},
   "source": [
    "## Exercise 1.2"
   ]
  },
  {
   "cell_type": "code",
   "execution_count": 18,
   "metadata": {},
   "outputs": [
    {
     "data": {
      "image/png": "[encoded data removed]",
      "text/plain": [
       "<Figure size 432x288 with 1 Axes>"
      ]
     },
     "metadata": {
      "needs_background": "light"
     },
     "output_type": "display_data"
    }
   ],
   "source": [
    "one_minus_lambda1 = 1 - np.array(lambda1_values) \n",
    "plt.plot(k_values, one_minus_lambda1) \n",
    "plt.xlabel(\"k\")\n",
    "plt.ylabel(\"1 - λ1(k)\")\n",
    "plt.show()"
   ]
  },
  {
   "attachments": {},
   "cell_type": "markdown",
   "metadata": {},
   "source": [
    "## Exercise 1.3"
   ]
  },
  {
   "cell_type": "code",
   "execution_count": 19,
   "metadata": {},
   "outputs": [
    {
     "name": "stdout",
     "output_type": "stream",
     "text": [
      "Estimated c0: 1.8686883003566588, Estimated alpha: 0.4022978328420497\n"
     ]
    },
    {
     "name": "stderr",
     "output_type": "stream",
     "text": [
      "/usr/local/lib/python3.9/site-packages/numpy/lib/function_base.py:601: ComplexWarning: Casting complex values to real discards the imaginary part\n",
      "  a = asarray(a, dtype=dtype, order=order)\n"
     ]
    }
   ],
   "source": [
    "from scipy.optimize import curve_fit \n",
    "\n",
    "def log_log_model(x, c0, alpha):\n",
    "    return c0 - alpha * np.log(x) \n",
    "\n",
    "k_values_fit = k_values[5:m - 5]\n",
    "assert len(k_values_fit) == len(k_values) - 10\n",
    "log_one_minus_lambda1_fit = np.log(one_minus_lambda1[5:m - 5])\n",
    "params, _ = curve_fit(log_log_model, k_values_fit, log_one_minus_lambda1_fit) \n",
    "c0, alpha = params\n",
    "print(f\"Estimated c0: {c0}, Estimated alpha: {alpha}\")"
   ]
  },
  {
   "attachments": {},
   "cell_type": "markdown",
   "metadata": {},
   "source": [
    "# Exercise 2"
   ]
  },
  {
   "attachments": {},
   "cell_type": "markdown",
   "metadata": {},
   "source": [
    "## Exercise 2.1"
   ]
  },
  {
   "cell_type": "code",
   "execution_count": 20,
   "metadata": {},
   "outputs": [
    {
     "name": "stdout",
     "output_type": "stream",
     "text": [
      "W\n",
      "[[0 4 1 0 0 3]\n",
      " [4 0 2 0 0 1]\n",
      " [1 2 0 2 1 0]\n",
      " [0 0 2 0 4 1]\n",
      " [0 0 1 4 0 2]\n",
      " [3 1 0 1 2 0]]\n",
      "Matrix symmetric? True\n"
     ]
    }
   ],
   "source": [
    "weight_matrix = np.array(\\\n",
    "# 1  2  3  4  5  6\n",
    "[[0, 4, 1, 0, 0, 3], # 1\n",
    " [4, 0, 2, 0, 0, 1], # 2\n",
    " [1, 2, 0, 2, 1, 0], # 3\n",
    " [0, 0, 2, 0, 4, 1], # 4\n",
    " [0, 0, 1, 4, 0, 2], # 5\n",
    " [3, 1, 0, 1, 2, 0]  # 6\n",
    "])\n",
    "print(\"W\")\n",
    "print(weight_matrix)\n",
    "# Check if matrix is symmetric, to validate  \n",
    "# that weights are entered correctly\n",
    "print(f\"Matrix symmetric? {np.allclose(weight_matrix, weight_matrix.T)}\")"
   ]
  }
 ],
 "metadata": {
  "kernelspec": {
   "display_name": "Python 3",
   "language": "python",
   "name": "python3"
  },
  "language_info": {
   "codemirror_mode": {
    "name": "ipython",
    "version": 3
   },
   "file_extension": ".py",
   "mimetype": "text/x-python",
   "name": "python",
   "nbconvert_exporter": "python",
   "pygments_lexer": "ipython3",
   "version": "3.9.16"
  },
  "orig_nbformat": 4
 },
 "nbformat": 4,
 "nbformat_minor": 2
}
