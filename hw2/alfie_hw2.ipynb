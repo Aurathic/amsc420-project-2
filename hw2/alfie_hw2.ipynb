{
 "cells": [
  {
   "attachments": {},
   "cell_type": "markdown",
   "metadata": {},
   "source": [
    "# Exercise 1"
   ]
  },
  {
   "cell_type": "code",
   "execution_count": 164,
   "metadata": {},
   "outputs": [],
   "source": [
    "import numpy as np\n",
    "import matplotlib.pyplot as plt\n",
    "\n",
    "# Load data\n",
    "def read_weighted_edges(file):\n",
    "    data = iter(open(file, \"r\", encoding=\"utf-8\")) \n",
    "    n = int(next(data))\n",
    "\n",
    "    matrix = [[x for x in row.strip().split(\" \")] for row in data] \n",
    "    matrix = np.array(matrix)\n",
    "\n",
    "    edges = []\n",
    "    for i in range(n):\n",
    "        for j in range(n):\n",
    "            if matrix[i][j] != 0 and i != j and (j, i, matrix[j][i]) not in edges:\n",
    "                edges.append((i, j, matrix[i][j])) \n",
    "\n",
    "    edges = sorted(edges, key=lambda x: x[2], reverse=True)\n",
    "\n",
    "    return n, edges"
   ]
  },
  {
   "cell_type": "code",
   "execution_count": 165,
   "metadata": {},
   "outputs": [],
   "source": [
    "def adjacency_matrix(n, edges):\n",
    "    adj_matrix = np.zeros((n, n))\n",
    "\n",
    "    for edge in edges: \n",
    "        i, j, _ = edge\n",
    "        adj_matrix[i, j] = 1 \n",
    "        adj_matrix[j, i] = 1\n",
    "\n",
    "    return adj_matrix\n",
    "\n",
    "def degree_matrix(adj_matrix):\n",
    "    return np.diag(np.sum(adj_matrix, axis=1))"
   ]
  },
  {
   "cell_type": "code",
   "execution_count": 166,
   "metadata": {},
   "outputs": [],
   "source": [
    "def normalized_laplacian_matrix(adj_matrix): \n",
    "    d_matrix = degree_matrix(adj_matrix)\n",
    "\n",
    "    with np.errstate(divide='ignore'):\n",
    "        d_matrix_sqrt = np.diag(1 / np.sqrt(np.diag(d_matrix)))\n",
    "\n",
    "    d_matrix_sqrt[np.isinf(d_matrix_sqrt)] = 0 # Replace inf values with 0\n",
    "\n",
    "    return d_matrix_sqrt @ (d_matrix - adj_matrix) @ d_matrix_sqrt\n",
    "\n",
    "def second_smallest_eigenvalue(L): \n",
    "    eigenvalues = np.linalg.eigvals(L) \n",
    "    eigenvalues.sort()\n",
    "\n",
    "    return eigenvalues[1]\n",
    "\n",
    "n, weighted_edges = read_weighted_edges(\"/Users/yuchenhongshu/UMD_Courses/MATH420/HW/amsc420-project-2/sgb128Nodes41to80_weight.txt\") \n",
    "m = len(weighted_edges)\n",
    "\n",
    "store_lambda = []\n",
    "\n",
    "for k in range(1, m + 1):\n",
    "    adj_matrix = adjacency_matrix(n, weighted_edges[:k]) \n",
    "    L = normalized_laplacian_matrix(adj_matrix)\n",
    "    lambda_value = second_smallest_eigenvalue(L) \n",
    "    store_lambda.append(lambda_value)"
   ]
  },
  {
   "attachments": {},
   "cell_type": "markdown",
   "metadata": {},
   "source": [
    "## Exercise 1.1"
   ]
  },
  {
   "cell_type": "code",
   "execution_count": 167,
   "metadata": {},
   "outputs": [
    {
     "name": "stderr",
     "output_type": "stream",
     "text": [
      "/usr/local/lib/python3.9/site-packages/matplotlib/cbook/__init__.py:1298: ComplexWarning: Casting complex values to real discards the imaginary part\n",
      "  return np.asarray(x, float)\n"
     ]
    },
    {
     "data": {
      "image/png": "[encoded data removed]",
      "text/plain": [
       "<Figure size 432x288 with 1 Axes>"
      ]
     },
     "metadata": {
      "needs_background": "light"
     },
     "output_type": "display_data"
    }
   ],
   "source": [
    "k_values = np.arange(1, m + 1) \n",
    "plt.plot(k_values, store_lambda) \n",
    "plt.xlabel(\"k\") \n",
    "plt.ylabel(\"λ_1(k)\")\n",
    "plt.show()"
   ]
  },
  {
   "attachments": {},
   "cell_type": "markdown",
   "metadata": {},
   "source": [
    "## Exercise 1.2"
   ]
  },
  {
   "cell_type": "code",
   "execution_count": 168,
   "metadata": {},
   "outputs": [
    {
     "data": {
      "image/png": "[encoded data removed]",
      "text/plain": [
       "<Figure size 432x288 with 1 Axes>"
      ]
     },
     "metadata": {
      "needs_background": "light"
     },
     "output_type": "display_data"
    }
   ],
   "source": [
    "minus_lambda = 1 - np.array(store_lambda) \n",
    "plt.plot(k_values, minus_lambda) \n",
    "plt.xlabel(\"k\")\n",
    "plt.ylabel(\"1 - λ_1(k)\")\n",
    "plt.show()"
   ]
  },
  {
   "attachments": {},
   "cell_type": "markdown",
   "metadata": {},
   "source": [
    "## Exercise 1.3"
   ]
  },
  {
   "cell_type": "code",
   "execution_count": 169,
   "metadata": {},
   "outputs": [
    {
     "name": "stdout",
     "output_type": "stream",
     "text": [
      "c0: 1.8686883003566588\n",
      "alpha: 0.4022978328420497\n"
     ]
    },
    {
     "name": "stderr",
     "output_type": "stream",
     "text": [
      "/usr/local/lib/python3.9/site-packages/numpy/lib/function_base.py:601: ComplexWarning: Casting complex values to real discards the imaginary part\n",
      "  a = asarray(a, dtype=dtype, order=order)\n"
     ]
    }
   ],
   "source": [
    "from scipy.optimize import curve_fit \n",
    "\n",
    "def log_log(k, c0, alpha):\n",
    "    return c0 - alpha * np.log(k) \n",
    "\n",
    "k_values_fit = k_values[5: m - 5]\n",
    "log_minus_lambda = np.log(minus_lambda[5: m - 5])\n",
    "params, _ = curve_fit(log_log, k_values_fit, log_minus_lambda) \n",
    "c0, alpha = params\n",
    "print(f\"c0: {c0}\")\n",
    "print(f\"alpha: {alpha}\")"
   ]
  },
  {
   "attachments": {},
   "cell_type": "markdown",
   "metadata": {},
   "source": [
    "# Exercise 2"
   ]
  },
  {
   "attachments": {},
   "cell_type": "markdown",
   "metadata": {},
   "source": [
    "## Exercise 2.1"
   ]
  },
  {
   "cell_type": "code",
   "execution_count": 170,
   "metadata": {},
   "outputs": [
    {
     "name": "stdout",
     "output_type": "stream",
     "text": [
      "Weight matrix:\n",
      "[[0 4 1 0 0 3]\n",
      " [4 0 2 0 0 1]\n",
      " [1 2 0 2 1 0]\n",
      " [0 0 2 0 4 1]\n",
      " [0 0 1 4 0 2]\n",
      " [3 1 0 1 2 0]]\n"
     ]
    }
   ],
   "source": [
    "weight_matrix = np.array(\n",
    "[[0, 4, 1, 0, 0, 3],\n",
    " [4, 0, 2, 0, 0, 1],\n",
    " [1, 2, 0, 2, 1, 0],\n",
    " [0, 0, 2, 0, 4, 1],\n",
    " [0, 0, 1, 4, 0, 2],\n",
    " [3, 1, 0, 1, 2, 0] \n",
    "])\n",
    "print(\"Weight matrix:\")\n",
    "print(weight_matrix)"
   ]
  },
  {
   "cell_type": "code",
   "execution_count": 171,
   "metadata": {},
   "outputs": [
    {
     "name": "stdout",
     "output_type": "stream",
     "text": [
      "Degree matrix:\n",
      "[[8 0 0 0 0 0]\n",
      " [0 7 0 0 0 0]\n",
      " [0 0 6 0 0 0]\n",
      " [0 0 0 7 0 0]\n",
      " [0 0 0 0 7 0]\n",
      " [0 0 0 0 0 7]]\n"
     ]
    }
   ],
   "source": [
    "degree_matrix = np.diag(np.sum(weight_matrix, axis=1)) \n",
    "print(\"Degree matrix:\") \n",
    "print(degree_matrix)"
   ]
  },
  {
   "cell_type": "code",
   "execution_count": 172,
   "metadata": {},
   "outputs": [
    {
     "name": "stdout",
     "output_type": "stream",
     "text": [
      "Weighted laplacian matrix:\n",
      "[[ 8 -4 -1  0  0 -3]\n",
      " [-4  7 -2  0  0 -1]\n",
      " [-1 -2  6 -2 -1  0]\n",
      " [ 0  0 -2  7 -4 -1]\n",
      " [ 0  0 -1 -4  7 -2]\n",
      " [-3 -1  0 -1 -2  7]]\n"
     ]
    }
   ],
   "source": [
    "laplacian = degree_matrix - weight_matrix\n",
    "print(\"Weighted laplacian matrix:\") \n",
    "print(laplacian)"
   ]
  },
  {
   "cell_type": "code",
   "execution_count": 173,
   "metadata": {},
   "outputs": [
    {
     "name": "stdout",
     "output_type": "stream",
     "text": [
      "Normalized laplacian matrix:\n",
      "[[ 1.         -0.53452248 -0.14433757  0.          0.         -0.40089186]\n",
      " [-0.53452248  1.         -0.3086067   0.          0.         -0.14285714]\n",
      " [-0.14433757 -0.3086067   1.         -0.3086067  -0.15430335  0.        ]\n",
      " [ 0.          0.         -0.3086067   1.         -0.57142857 -0.14285714]\n",
      " [ 0.          0.         -0.15430335 -0.57142857  1.         -0.28571429]\n",
      " [-0.40089186 -0.14285714  0.         -0.14285714 -0.28571429  1.        ]]\n"
     ]
    }
   ],
   "source": [
    "d_metrix_sqrt = np.diag(1 / np.sqrt(np.diag(degree_matrix))) \n",
    "normalized_laplacian = d_metrix_sqrt @ (laplacian @ d_metrix_sqrt) \n",
    "print(\"Normalized laplacian matrix:\") \n",
    "print(normalized_laplacian)"
   ]
  },
  {
   "attachments": {},
   "cell_type": "markdown",
   "metadata": {},
   "source": [
    "## Exercise 2.2"
   ]
  },
  {
   "cell_type": "code",
   "execution_count": 174,
   "metadata": {},
   "outputs": [],
   "source": [
    "import itertools\n",
    "\n",
    "def cheeger(p0, p1, weight_matrix):\n",
    "    split = np.sum(weight_matrix[np.ix_(p0, p1)]) \n",
    "    size_S1 = np.sum(weight_matrix[p0])\n",
    "    size_S2 = np.sum(weight_matrix[p1])\n",
    "\n",
    "    return split / min(size_S1, size_S2)\n",
    "\n"
   ]
  },
  {
   "attachments": {},
   "cell_type": "markdown",
   "metadata": {},
   "source": [
    "## Exercise 2.3"
   ]
  },
  {
   "cell_type": "code",
   "execution_count": 175,
   "metadata": {},
   "outputs": [],
   "source": [
    "eigenvalues, eigenvectors = np.linalg.eigh(normalized_laplacian)\n",
    "# Find the second smallest eigenvalue and its corresponding eigenvector\n",
    "lambda_2_3 = eigenvalues[1] \n",
    "v_2_3 = eigenvectors[:, 1]"
   ]
  }
 ],
 "metadata": {
  "kernelspec": {
   "display_name": "Python 3",
   "language": "python",
   "name": "python3"
  },
  "language_info": {
   "codemirror_mode": {
    "name": "ipython",
    "version": 3
   },
   "file_extension": ".py",
   "mimetype": "text/x-python",
   "name": "python",
   "nbconvert_exporter": "python",
   "pygments_lexer": "ipython3",
   "version": "3.9.16"
  },
  "orig_nbformat": 4
 },
 "nbformat": 4,
 "nbformat_minor": 2
}
