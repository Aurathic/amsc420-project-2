{
 "cells": [
  {
   "attachments": {},
   "cell_type": "markdown",
   "metadata": {},
   "source": [
    "# Exercise 1"
   ]
  },
  {
   "cell_type": "code",
   "execution_count": 16,
   "metadata": {},
   "outputs": [
    {
     "name": "stdout",
     "output_type": "stream",
     "text": [
      "Matrix loaded with 40 nodes\n",
      "Loaded 780 edges\n",
      "Lambda 1 finished computing\n"
     ]
    }
   ],
   "source": [
    "import numpy as np\n",
    "import matplotlib.pyplot as plt\n",
    "\n",
    "# Load data\n",
    "def read_weighted_edges(file):\n",
    "    data = iter(open(file, \"r\", encoding=\"utf-8\")) \n",
    "    n = int(next(data))\n",
    "\n",
    "    matrix = [[float(x) for x in row.strip().split(\" \")] for row in data] \n",
    "    matrix = np.array(matrix)\n",
    "\n",
    "    # Check number of nodes and edges\n",
    "    assert matrix.shape == (n, n) \n",
    "    print(f\"Matrix loaded with {n} nodes\")\n",
    "\n",
    "    edges = []\n",
    "    for i in range(n):\n",
    "        for j in range(n):\n",
    "            if matrix[i][j] != 0 and i != j and (j, i, matrix[j][i]) not in edges:\n",
    "                edges.append((i, j, matrix[i][j])) \n",
    "                \n",
    "    print(f\"Loaded {len(edges)} edges\")\n",
    "\n",
    "    edges = sorted(edges, key=lambda x: x[2], reverse=True)\n",
    "\n",
    "    return n, edges\n",
    "\n",
    "def adjacency_matrix(n, edges):\n",
    "    adj_matrix = np.zeros((n, n))\n",
    "\n",
    "    for edge in edges: \n",
    "        i, j, _ = edge\n",
    "        adj_matrix[i, j] = 1 \n",
    "        adj_matrix[j, i] = 1\n",
    "\n",
    "    return adj_matrix\n",
    "\n",
    "def degree_matrix(adj_matrix):\n",
    "    return np.diag(np.sum(adj_matrix, axis=1))\n",
    "\n",
    "def normalized_laplacian_matrix(adj_matrix): \n",
    "    D = degree_matrix(adj_matrix)\n",
    "\n",
    "    with np.errstate(divide='ignore'):\n",
    "        D_inv_sqrt = np.diag(1 / np.sqrt(np.diag(D)))\n",
    "\n",
    "    D_inv_sqrt[np.isinf(D_inv_sqrt)] = 0 # Replace inf values with 0\n",
    "\n",
    "    return D_inv_sqrt @ (D - adj_matrix) @ D_inv_sqrt\n",
    "\n",
    "def second_smallest_eigenvalue(L): \n",
    "    eigenvalues = np.linalg.eigvals(L) \n",
    "    eigenvalues.sort()\n",
    "\n",
    "    return eigenvalues[1]\n",
    "\n",
    "n, weighted_edges = read_weighted_edges(\"/Users/yuchenhongshu/UMD_Courses/MATH420/HW/amsc420-project-2/sgb128Nodes41to80_weight.txt\") \n",
    "m = len(weighted_edges)\n",
    "\n",
    "lambda1_values = []\n",
    "\n",
    "for k in range(1, m + 1):\n",
    "    adj_matrix = adjacency_matrix(n, weighted_edges[:k]) \n",
    "    L = normalized_laplacian_matrix(adj_matrix)\n",
    "    lambda1 = second_smallest_eigenvalue(L) \n",
    "    lambda1_values.append(lambda1)\n",
    "    \n",
    "print(\"Lambda 1 finished computing\")"
   ]
  },
  {
   "attachments": {},
   "cell_type": "markdown",
   "metadata": {},
   "source": [
    "## Exercise 1.1"
   ]
  },
  {
   "cell_type": "code",
   "execution_count": 17,
   "metadata": {},
   "outputs": [
    {
     "name": "stderr",
     "output_type": "stream",
     "text": [
      "/usr/local/lib/python3.9/site-packages/matplotlib/cbook/__init__.py:1298: ComplexWarning: Casting complex values to real discards the imaginary part\n",
      "  return np.asarray(x, float)\n"
     ]
    },
    {
     "data": {
      "image/png": "[encoded data removed]",
      "text/plain": [
       "<Figure size 432x288 with 1 Axes>"
      ]
     },
     "metadata": {
      "needs_background": "light"
     },
     "output_type": "display_data"
    }
   ],
   "source": [
    "k_values = np.arange(1, m + 1) \n",
    "plt.plot(k_values, lambda1_values) \n",
    "plt.xlabel(\"k\") \n",
    "plt.ylabel(\"λ1(k)\")\n",
    "plt.show()"
   ]
  },
  {
   "attachments": {},
   "cell_type": "markdown",
   "metadata": {},
   "source": [
    "## Exercise 1.2"
   ]
  },
  {
   "cell_type": "code",
   "execution_count": 18,
   "metadata": {},
   "outputs": [
    {
     "data": {
      "image/png": "[encoded data removed]",
      "text/plain": [
       "<Figure size 432x288 with 1 Axes>"
      ]
     },
     "metadata": {
      "needs_background": "light"
     },
     "output_type": "display_data"
    }
   ],
   "source": [
    "one_minus_lambda1 = 1 - np.array(lambda1_values) \n",
    "plt.plot(k_values, one_minus_lambda1) \n",
    "plt.xlabel(\"k\")\n",
    "plt.ylabel(\"1 - λ1(k)\")\n",
    "plt.show()"
   ]
  },
  {
   "attachments": {},
   "cell_type": "markdown",
   "metadata": {},
   "source": [
    "## Exercise 1.3"
   ]
  },
  {
   "cell_type": "code",
   "execution_count": 19,
   "metadata": {},
   "outputs": [
    {
     "name": "stdout",
     "output_type": "stream",
     "text": [
      "Estimated c0: 1.8686883003566588, Estimated alpha: 0.4022978328420497\n"
     ]
    },
    {
     "name": "stderr",
     "output_type": "stream",
     "text": [
      "/usr/local/lib/python3.9/site-packages/numpy/lib/function_base.py:601: ComplexWarning: Casting complex values to real discards the imaginary part\n",
      "  a = asarray(a, dtype=dtype, order=order)\n"
     ]
    }
   ],
   "source": [
    "from scipy.optimize import curve_fit \n",
    "\n",
    "def log_log_model(x, c0, alpha):\n",
    "    return c0 - alpha * np.log(x) \n",
    "\n",
    "k_values_fit = k_values[5:m - 5]\n",
    "assert len(k_values_fit) == len(k_values) - 10\n",
    "log_one_minus_lambda1_fit = np.log(one_minus_lambda1[5:m - 5])\n",
    "params, _ = curve_fit(log_log_model, k_values_fit, log_one_minus_lambda1_fit) \n",
    "c0, alpha = params\n",
    "print(f\"Estimated c0: {c0}, Estimated alpha: {alpha}\")"
   ]
  },
  {
   "attachments": {},
   "cell_type": "markdown",
   "metadata": {},
   "source": [
    "# Exercise 2"
   ]
  },
  {
   "attachments": {},
   "cell_type": "markdown",
   "metadata": {},
   "source": [
    "## Exercise 2.1"
   ]
  },
  {
   "cell_type": "code",
   "execution_count": 20,
   "metadata": {},
   "outputs": [
    {
     "name": "stdout",
     "output_type": "stream",
     "text": [
      "W\n",
      "[[0 4 1 0 0 3]\n",
      " [4 0 2 0 0 1]\n",
      " [1 2 0 2 1 0]\n",
      " [0 0 2 0 4 1]\n",
      " [0 0 1 4 0 2]\n",
      " [3 1 0 1 2 0]]\n",
      "Matrix symmetric? True\n"
     ]
    }
   ],
   "source": [
    "weight_matrix = np.array(\\\n",
    "# 1  2  3  4  5  6\n",
    "[[0, 4, 1, 0, 0, 3], # 1\n",
    " [4, 0, 2, 0, 0, 1], # 2\n",
    " [1, 2, 0, 2, 1, 0], # 3\n",
    " [0, 0, 2, 0, 4, 1], # 4\n",
    " [0, 0, 1, 4, 0, 2], # 5\n",
    " [3, 1, 0, 1, 2, 0]  # 6\n",
    "])\n",
    "print(\"W\")\n",
    "print(weight_matrix)\n",
    "# Check if matrix is symmetric, to validate  \n",
    "# that weights are entered correctly\n",
    "print(f\"Matrix symmetric? {np.allclose(weight_matrix, weight_matrix.T)}\")"
   ]
  }
 ],
 "metadata": {
  "kernelspec": {
   "display_name": "Python 3",
   "language": "python",
   "name": "python3"
  },
  "language_info": {
   "codemirror_mode": {
    "name": "ipython",
    "version": 3
   },
   "file_extension": ".py",
   "mimetype": "text/x-python",
   "name": "python",
   "nbconvert_exporter": "python",
   "pygments_lexer": "ipython3",
   "version": "3.9.16"
  },
  "orig_nbformat": 4
 },
 "nbformat": 4,
 "nbformat_minor": 2
}
